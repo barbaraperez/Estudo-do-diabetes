{
  "nbformat": 4,
  "nbformat_minor": 0,
  "metadata": {
    "colab": {
      "provenance": [],
      "collapsed_sections": [],
      "include_colab_link": true
    },
    "kernelspec": {
      "name": "python3",
      "display_name": "Python 3"
    },
    "language_info": {
      "name": "python"
    }
  },
  "cells": [
    {
      "cell_type": "markdown",
      "metadata": {
        "id": "view-in-github",
        "colab_type": "text"
      },
      "source": [
        "<a href=\"https://colab.research.google.com/github/barbaraperez/Estudo-do-diabetes/blob/main/machine_learning_b3.ipynb\" target=\"_parent\"><img src=\"https://colab.research.google.com/assets/colab-badge.svg\" alt=\"Open In Colab\"/></a>"
      ]
    },
    {
      "cell_type": "markdown",
      "source": [
        "**Bloco 3**\n",
        "\n"
      ],
      "metadata": {
        "id": "p9lyULtsP11E"
      }
    },
    {
      "cell_type": "markdown",
      "source": [
        "#### **Passos iniciais**"
      ],
      "metadata": {
        "id": "w8LMHclFCI2g"
      }
    },
    {
      "cell_type": "code",
      "execution_count": null,
      "metadata": {
        "id": "NOv82S-GQtjh"
      },
      "outputs": [],
      "source": [
        "# importando bibliotecas principais\n",
        "import pandas as pd \n",
        "import matplotlib.pyplot as plt\n",
        "import seaborn as sns\n",
        "import numpy as np"
      ]
    },
    {
      "cell_type": "code",
      "execution_count": null,
      "metadata": {
        "id": "GMJ7YISJxilp"
      },
      "outputs": [],
      "source": [
        "url = \"https://github.com/barbaraperez/Estudo-do-diabetes/blob/main/datateste_diabetes1.5.xlsx?raw=true\" # salva o link da nossa tabela de dados armazenados em arquivo xlsx no github em uma variável\n",
        "df = pd.read_excel(url, header=0) #pede para o pandas criar um dataframe com esses dados"
      ]
    },
    {
      "cell_type": "code",
      "execution_count": null,
      "metadata": {
        "colab": {
          "base_uri": "https://localhost:8080/"
        },
        "id": "jXVSBNXH4GeP",
        "outputId": "bd17c5e6-30fe-4c5a-bdf2-d3b37eaaa938"
      },
      "outputs": [
        {
          "output_type": "stream",
          "name": "stdout",
          "text": [
            "(66, 7)\n"
          ]
        }
      ],
      "source": [
        "print(df.shape) ## número de linhas e colunas dos nossos dados"
      ]
    },
    {
      "cell_type": "code",
      "execution_count": null,
      "metadata": {
        "colab": {
          "base_uri": "https://localhost:8080/"
        },
        "id": "H_3Ebz8c4HA5",
        "outputId": "916324e4-1828-4b4f-e0b0-39b1df4bc098"
      },
      "outputs": [
        {
          "output_type": "stream",
          "name": "stdout",
          "text": [
            "ano                        int64\n",
            "pais                      object\n",
            "idh                      float64\n",
            "populacao_geral            int64\n",
            "per_crian_cinc_soprep    float64\n",
            "kcal_medio                 int64\n",
            "diabeticos               float64\n",
            "dtype: object\n"
          ]
        }
      ],
      "source": [
        "print(df.dtypes) ## tipo dos dados de cada coluna"
      ]
    },
    {
      "cell_type": "code",
      "execution_count": null,
      "metadata": {
        "colab": {
          "base_uri": "https://localhost:8080/"
        },
        "id": "JgatCJbF16YZ",
        "outputId": "13db2481-86d4-4291-bf7e-e403ecbddc71"
      },
      "outputs": [
        {
          "output_type": "stream",
          "name": "stdout",
          "text": [
            "               ano        idh  populacao_geral  per_crian_cinc_soprep  \\\n",
            "count    66.000000  60.000000     6.600000e+01              63.000000   \n",
            "mean   2010.500000   0.784750     8.477532e+07               9.909524   \n",
            "std       6.392905   0.050022     8.009502e+07               2.392037   \n",
            "min    2000.000000   0.685000     1.534235e+07               6.200000   \n",
            "25%    2005.000000   0.756000     1.827441e+07               7.100000   \n",
            "50%    2010.500000   0.787500     4.102497e+07              10.600000   \n",
            "75%    2016.000000   0.830250     1.855970e+08              12.050000   \n",
            "max    2021.000000   0.851000     2.139934e+08              12.900000   \n",
            "\n",
            "        kcal_medio    diabeticos  \n",
            "count    66.000000     66.000000  \n",
            "mean   2415.045455   4531.775606  \n",
            "std      21.913418   5240.595637  \n",
            "min    2367.000000    131.100000  \n",
            "25%    2398.750000   1176.600000  \n",
            "50%    2414.000000   1638.750000  \n",
            "75%    2433.000000   7955.975000  \n",
            "max    2448.000000  15733.600000  \n"
          ]
        }
      ],
      "source": [
        "print(df.describe()) ## estatísticas descritivas dos dados"
      ]
    },
    {
      "cell_type": "code",
      "execution_count": null,
      "metadata": {
        "colab": {
          "base_uri": "https://localhost:8080/"
        },
        "id": "JsJSytO-7MQ2",
        "outputId": "0fff7edf-b970-40a1-dbdb-45c7d7ba5ad7"
      },
      "outputs": [
        {
          "output_type": "execute_result",
          "data": {
            "text/plain": [
              "<bound method NDFrame.head of      ano    pais    idh  populacao_geral  per_crian_cinc_soprep  kcal_medio  \\\n",
              "0   2021  Brasil    NaN        213993441                    NaN        2447   \n",
              "1   2020  Brasil    NaN        212559409                    7.3        2448   \n",
              "2   2019  Brasil  0.765        211049519                    7.2        2447   \n",
              "3   2018  Brasil  0.762        209469320                    7.2        2447   \n",
              "4   2017  Brasil  0.761        207833825                    7.1        2446   \n",
              "..   ...     ...    ...              ...                    ...         ...   \n",
              "61  2004   Chile  0.785         16014972                   11.4        2403   \n",
              "62  2003   Chile  0.776         15849649                   11.5        2397   \n",
              "63  2002   Chile  0.769         15684413                   11.5        2391   \n",
              "64  2001   Chile  0.767         15516112                   11.4        2386   \n",
              "65  2000   Chile  0.756         15342350                   11.3        2378   \n",
              "\n",
              "    diabeticos  \n",
              "0     15733.60  \n",
              "1     15619.00  \n",
              "2     15456.00  \n",
              "3     15246.00  \n",
              "4     14988.00  \n",
              "..         ...  \n",
              "61      570.29  \n",
              "62      466.29  \n",
              "63      358.42  \n",
              "64      246.69  \n",
              "65      131.10  \n",
              "\n",
              "[66 rows x 7 columns]>"
            ]
          },
          "metadata": {},
          "execution_count": 7
        }
      ],
      "source": [
        "df.head ## 5 primeiras linhas e 5 últimas linhas"
      ]
    },
    {
      "cell_type": "code",
      "execution_count": null,
      "metadata": {
        "colab": {
          "base_uri": "https://localhost:8080/"
        },
        "id": "B12graRtSt94",
        "outputId": "b894b101-eb1e-4796-9f35-97325c61d410"
      },
      "outputs": [
        {
          "output_type": "stream",
          "name": "stdout",
          "text": [
            "RangeIndex(start=0, stop=66, step=1)\n",
            "\n",
            "Index(['ano', 'pais', 'idh', 'populacao_geral', 'per_crian_cinc_soprep',\n",
            "       'kcal_medio', 'diabeticos'],\n",
            "      dtype='object')\n"
          ]
        }
      ],
      "source": [
        "print(df.index) \n",
        "print()\n",
        "print(df.columns)"
      ]
    },
    {
      "cell_type": "markdown",
      "metadata": {
        "id": "HM37zpl9PCST"
      },
      "source": [
        "Como vemos acima, as linhas são identificadas por números inteiros de 0 até 66 e as colunas são identificadas por strings, sendo elas:\n",
        "\n",
        "-   `ano`: ano relativo aqueles dados;\n",
        "-   `pais`: país de origem daqueles dados;\n",
        "-   `idh`: Índice de Desenvolvimento Humano daquele país naquele determinado ano;\n",
        "-   `populacao_geral`: número absoluto de pessoas\n",
        "-   `per_crian_cinc_soprep`: porcentagem de crianças com 5 anos ou menos que estão com sobrepeso em determinado país em determinado ano\n",
        "-   `kcal_medio`: necessidade calóriga média em kcal ingerida por dia por pessoas de determinado país em determinado ano\n",
        "-   `´diabeticos`: número de indivíduos diabéticos em milhar de determinado país a cada ano."
      ]
    },
    {
      "cell_type": "code",
      "execution_count": null,
      "metadata": {
        "colab": {
          "base_uri": "https://localhost:8080/"
        },
        "id": "fMYm8PYXTYJL",
        "outputId": "51818bd8-3c50-4e31-e2e2-d5447ae499a9"
      },
      "outputs": [
        {
          "output_type": "stream",
          "name": "stdout",
          "text": [
            "ano                           2001\n",
            "pais                        Brasil\n",
            "idh                          0.691\n",
            "populacao_geral          177196051\n",
            "per_crian_cinc_soprep          6.2\n",
            "kcal_medio                    2371\n",
            "diabeticos                  4378.7\n",
            "Name: 20, dtype: object\n"
          ]
        }
      ],
      "source": [
        "print(df.loc[20])"
      ]
    },
    {
      "cell_type": "code",
      "execution_count": null,
      "metadata": {
        "colab": {
          "base_uri": "https://localhost:8080/"
        },
        "id": "fb4_YP_avinq",
        "outputId": "6f67e9db-6e35-4f7c-dee1-6fde47cb06a7"
      },
      "outputs": [
        {
          "output_type": "stream",
          "name": "stdout",
          "text": [
            "     ano       pais    idh  populacao_geral  per_crian_cinc_soprep  \\\n",
            "2   2019     Brasil  0.765        211049519                    7.2   \n",
            "3   2018     Brasil  0.762        209469320                    7.2   \n",
            "4   2017     Brasil  0.761        207833825                    7.1   \n",
            "5   2016     Brasil  0.758        206163056                    7.1   \n",
            "6   2015     Brasil  0.756        204471759                    7.1   \n",
            "7   2014     Brasil  0.756        202763744                    7.0   \n",
            "8   2013     Brasil  0.753        201035904                    6.9   \n",
            "9   2012     Brasil  0.735        199287292                    6.9   \n",
            "10  2011     Brasil  0.731        197514541                    6.8   \n",
            "11  2010     Brasil  0.727        195713637                    6.8   \n",
            "12  2009     Brasil  0.719        193886505                    6.7   \n",
            "13  2008     Brasil  0.717        192030362                    6.6   \n",
            "14  2007     Brasil  0.706        190130445                    6.6   \n",
            "15  2006     Brasil  0.702        188167353                    6.5   \n",
            "16  2005     Brasil  0.700        186127108                    6.5   \n",
            "17  2004     Brasil  0.698        184006479                    6.4   \n",
            "18  2003     Brasil  0.695        181809244                    6.4   \n",
            "19  2002     Brasil  0.699        179537523                    6.3   \n",
            "20  2001     Brasil  0.691        177196051                    6.2   \n",
            "21  2000     Brasil  0.685        174790339                    6.2   \n",
            "24  2019  Argentina  0.845         44938712                   12.9   \n",
            "25  2018  Argentina  0.842         44494502                   12.8   \n",
            "26  2017  Argentina  0.843         44044811                   12.7   \n",
            "27  2016  Argentina  0.839         43590368                   12.6   \n",
            "28  2015  Argentina  0.840         43131966                   12.5   \n",
            "29  2014  Argentina  0.836         42669500                   12.4   \n",
            "30  2013  Argentina  0.835         42202935                   12.4   \n",
            "31  2012  Argentina  0.834         41733271                   12.4   \n",
            "32  2011  Argentina  0.835         41261490                   12.4   \n",
            "33  2010  Argentina  0.829         40788453                   12.3   \n",
            "34  2009  Argentina  0.821         40482786                   12.3   \n",
            "35  2008  Argentina  0.821         40080159                   12.2   \n",
            "36  2007  Argentina  0.817         39684303                   12.2   \n",
            "37  2006  Argentina  0.812         39289876                   12.2   \n",
            "38  2005  Argentina  0.788         38892924                   12.1   \n",
            "39  2004  Argentina  0.787         38491970                   12.0   \n",
            "40  2003  Argentina  0.786         38087866                   11.9   \n",
            "41  2002  Argentina  0.781         37681743                   11.9   \n",
            "42  2001  Argentina  0.786         37275644                   11.8   \n",
            "43  2000  Argentina  0.781         36870796                   11.6   \n",
            "46  2019      Chile  0.851         18952035                    9.9   \n",
            "47  2018      Chile  0.849         18729166                    9.9   \n",
            "48  2017      Chile  0.847         18470435                   10.0   \n",
            "49  2016      Chile  0.845         18209072                   10.0   \n",
            "50  2015      Chile  0.842         17969356                   10.1   \n",
            "51  2014      Chile  0.837         17758969                   10.1   \n",
            "52  2013      Chile  0.826         17571511                   10.3   \n",
            "53  2012      Chile  0.821         17400359                   10.4   \n",
            "54  2011      Chile  0.815         17233584                   10.5   \n",
            "55  2010      Chile  0.803         17062531                   10.6   \n",
            "56  2009      Chile  0.822         16886184                   10.8   \n",
            "57  2008      Chile  0.814         16708255                   10.9   \n",
            "58  2007      Chile  0.804         16530201                   11.1   \n",
            "59  2006      Chile  0.791         16354507                   11.2   \n",
            "60  2005      Chile  0.791         16182713                   11.3   \n",
            "61  2004      Chile  0.785         16014972                   11.4   \n",
            "62  2003      Chile  0.776         15849649                   11.5   \n",
            "63  2002      Chile  0.769         15684413                   11.5   \n",
            "64  2001      Chile  0.767         15516112                   11.4   \n",
            "65  2000      Chile  0.756         15342350                   11.3   \n",
            "\n",
            "    kcal_medio  diabeticos  \n",
            "2         2447    15456.00  \n",
            "3         2447    15246.00  \n",
            "4         2446    14988.00  \n",
            "5         2446    14683.00  \n",
            "6         2445    14330.00  \n",
            "7         2443    13929.00  \n",
            "8         2442    13480.00  \n",
            "9         2439    12984.00  \n",
            "10        2436    12440.00  \n",
            "11        2433    11848.00  \n",
            "12        2429    11209.00  \n",
            "13        2424    10522.00  \n",
            "14        2417     9787.60  \n",
            "15        2409     9005.30  \n",
            "16        2401     8175.40  \n",
            "17        2393     7297.70  \n",
            "18        2385     6372.40  \n",
            "19        2376     3299.40  \n",
            "20        2371     4378.70  \n",
            "21        2367     3310.40  \n",
            "24        2414     1784.20  \n",
            "25        2412     1766.90  \n",
            "26        2412     1745.50  \n",
            "27        2411     1720.00  \n",
            "28        2410     1690.50  \n",
            "29        2409     1656.90  \n",
            "30        2408     1619.20  \n",
            "31        2407     1577.50  \n",
            "32        2406     1531.80  \n",
            "33        2405     1482.00  \n",
            "34        2403     1428.10  \n",
            "35        2401     1370.20  \n",
            "36        2398     1308.20  \n",
            "37        2396     1242.20  \n",
            "38        2395     1172.10  \n",
            "39        2392     1098.00  \n",
            "40        2390     1019.80  \n",
            "41        2388      937.56  \n",
            "42        2385      851.26  \n",
            "43        2381      760.90  \n",
            "46        2440     1666.60  \n",
            "47        2438     1620.60  \n",
            "48        2435     1570.70  \n",
            "49        2433     1516.90  \n",
            "50        2431     1459.30  \n",
            "51        2430     1397.80  \n",
            "52        2429     1332.40  \n",
            "53        2429     1263.20  \n",
            "54        2428     1190.10  \n",
            "55        2427     1113.10  \n",
            "56        2424     1032.30  \n",
            "57        2421      947.65  \n",
            "58        2418      859.11  \n",
            "59        2414      766.70  \n",
            "60        2409      670.42  \n",
            "61        2403      570.29  \n",
            "62        2397      466.29  \n",
            "63        2391      358.42  \n",
            "64        2386      246.69  \n",
            "65        2378      131.10  \n"
          ]
        }
      ],
      "source": [
        "#Removendo as linhas correspondentes aos anos de 2021 e 2020\n",
        "df_atualizado = df.drop([0, 1, 22, 23, 44, 45], axis=0)\n",
        "print(df_atualizado)"
      ]
    },
    {
      "cell_type": "markdown",
      "metadata": {
        "id": "9w_ify-os92k"
      },
      "source": [
        "Essas linhas referentes a 2020 e 2021 serão removidas porque, durante esses anos, enfrentou-se uma pandemia mundial de COVID-19, assim, os números e condições se diferem muito da realidade analisada em outros anos, logo, é preciso eliminá-las para que o modelo não seja mau influenciado."
      ]
    },
    {
      "cell_type": "code",
      "source": [
        "df_atualizado[\"diabetes_normalizado\"] = df_atualizado[\"diabeticos\"].div(df_atualizado[\"populacao_geral\"].values)\n",
        "print(df_atualizado)"
      ],
      "metadata": {
        "id": "xHv_CNt2XbfZ",
        "colab": {
          "base_uri": "https://localhost:8080/"
        },
        "outputId": "20c23e0f-6539-4dfc-ce20-351101fba368"
      },
      "execution_count": null,
      "outputs": [
        {
          "output_type": "stream",
          "name": "stdout",
          "text": [
            "     ano       pais    idh  populacao_geral  per_crian_cinc_soprep  \\\n",
            "2   2019     Brasil  0.765        211049519                    7.2   \n",
            "3   2018     Brasil  0.762        209469320                    7.2   \n",
            "4   2017     Brasil  0.761        207833825                    7.1   \n",
            "5   2016     Brasil  0.758        206163056                    7.1   \n",
            "6   2015     Brasil  0.756        204471759                    7.1   \n",
            "7   2014     Brasil  0.756        202763744                    7.0   \n",
            "8   2013     Brasil  0.753        201035904                    6.9   \n",
            "9   2012     Brasil  0.735        199287292                    6.9   \n",
            "10  2011     Brasil  0.731        197514541                    6.8   \n",
            "11  2010     Brasil  0.727        195713637                    6.8   \n",
            "12  2009     Brasil  0.719        193886505                    6.7   \n",
            "13  2008     Brasil  0.717        192030362                    6.6   \n",
            "14  2007     Brasil  0.706        190130445                    6.6   \n",
            "15  2006     Brasil  0.702        188167353                    6.5   \n",
            "16  2005     Brasil  0.700        186127108                    6.5   \n",
            "17  2004     Brasil  0.698        184006479                    6.4   \n",
            "18  2003     Brasil  0.695        181809244                    6.4   \n",
            "19  2002     Brasil  0.699        179537523                    6.3   \n",
            "20  2001     Brasil  0.691        177196051                    6.2   \n",
            "21  2000     Brasil  0.685        174790339                    6.2   \n",
            "24  2019  Argentina  0.845         44938712                   12.9   \n",
            "25  2018  Argentina  0.842         44494502                   12.8   \n",
            "26  2017  Argentina  0.843         44044811                   12.7   \n",
            "27  2016  Argentina  0.839         43590368                   12.6   \n",
            "28  2015  Argentina  0.840         43131966                   12.5   \n",
            "29  2014  Argentina  0.836         42669500                   12.4   \n",
            "30  2013  Argentina  0.835         42202935                   12.4   \n",
            "31  2012  Argentina  0.834         41733271                   12.4   \n",
            "32  2011  Argentina  0.835         41261490                   12.4   \n",
            "33  2010  Argentina  0.829         40788453                   12.3   \n",
            "34  2009  Argentina  0.821         40482786                   12.3   \n",
            "35  2008  Argentina  0.821         40080159                   12.2   \n",
            "36  2007  Argentina  0.817         39684303                   12.2   \n",
            "37  2006  Argentina  0.812         39289876                   12.2   \n",
            "38  2005  Argentina  0.788         38892924                   12.1   \n",
            "39  2004  Argentina  0.787         38491970                   12.0   \n",
            "40  2003  Argentina  0.786         38087866                   11.9   \n",
            "41  2002  Argentina  0.781         37681743                   11.9   \n",
            "42  2001  Argentina  0.786         37275644                   11.8   \n",
            "43  2000  Argentina  0.781         36870796                   11.6   \n",
            "46  2019      Chile  0.851         18952035                    9.9   \n",
            "47  2018      Chile  0.849         18729166                    9.9   \n",
            "48  2017      Chile  0.847         18470435                   10.0   \n",
            "49  2016      Chile  0.845         18209072                   10.0   \n",
            "50  2015      Chile  0.842         17969356                   10.1   \n",
            "51  2014      Chile  0.837         17758969                   10.1   \n",
            "52  2013      Chile  0.826         17571511                   10.3   \n",
            "53  2012      Chile  0.821         17400359                   10.4   \n",
            "54  2011      Chile  0.815         17233584                   10.5   \n",
            "55  2010      Chile  0.803         17062531                   10.6   \n",
            "56  2009      Chile  0.822         16886184                   10.8   \n",
            "57  2008      Chile  0.814         16708255                   10.9   \n",
            "58  2007      Chile  0.804         16530201                   11.1   \n",
            "59  2006      Chile  0.791         16354507                   11.2   \n",
            "60  2005      Chile  0.791         16182713                   11.3   \n",
            "61  2004      Chile  0.785         16014972                   11.4   \n",
            "62  2003      Chile  0.776         15849649                   11.5   \n",
            "63  2002      Chile  0.769         15684413                   11.5   \n",
            "64  2001      Chile  0.767         15516112                   11.4   \n",
            "65  2000      Chile  0.756         15342350                   11.3   \n",
            "\n",
            "    kcal_medio  diabeticos  diabetes_normalizado  \n",
            "2         2447    15456.00              0.000073  \n",
            "3         2447    15246.00              0.000073  \n",
            "4         2446    14988.00              0.000072  \n",
            "5         2446    14683.00              0.000071  \n",
            "6         2445    14330.00              0.000070  \n",
            "7         2443    13929.00              0.000069  \n",
            "8         2442    13480.00              0.000067  \n",
            "9         2439    12984.00              0.000065  \n",
            "10        2436    12440.00              0.000063  \n",
            "11        2433    11848.00              0.000061  \n",
            "12        2429    11209.00              0.000058  \n",
            "13        2424    10522.00              0.000055  \n",
            "14        2417     9787.60              0.000051  \n",
            "15        2409     9005.30              0.000048  \n",
            "16        2401     8175.40              0.000044  \n",
            "17        2393     7297.70              0.000040  \n",
            "18        2385     6372.40              0.000035  \n",
            "19        2376     3299.40              0.000018  \n",
            "20        2371     4378.70              0.000025  \n",
            "21        2367     3310.40              0.000019  \n",
            "24        2414     1784.20              0.000040  \n",
            "25        2412     1766.90              0.000040  \n",
            "26        2412     1745.50              0.000040  \n",
            "27        2411     1720.00              0.000039  \n",
            "28        2410     1690.50              0.000039  \n",
            "29        2409     1656.90              0.000039  \n",
            "30        2408     1619.20              0.000038  \n",
            "31        2407     1577.50              0.000038  \n",
            "32        2406     1531.80              0.000037  \n",
            "33        2405     1482.00              0.000036  \n",
            "34        2403     1428.10              0.000035  \n",
            "35        2401     1370.20              0.000034  \n",
            "36        2398     1308.20              0.000033  \n",
            "37        2396     1242.20              0.000032  \n",
            "38        2395     1172.10              0.000030  \n",
            "39        2392     1098.00              0.000029  \n",
            "40        2390     1019.80              0.000027  \n",
            "41        2388      937.56              0.000025  \n",
            "42        2385      851.26              0.000023  \n",
            "43        2381      760.90              0.000021  \n",
            "46        2440     1666.60              0.000088  \n",
            "47        2438     1620.60              0.000087  \n",
            "48        2435     1570.70              0.000085  \n",
            "49        2433     1516.90              0.000083  \n",
            "50        2431     1459.30              0.000081  \n",
            "51        2430     1397.80              0.000079  \n",
            "52        2429     1332.40              0.000076  \n",
            "53        2429     1263.20              0.000073  \n",
            "54        2428     1190.10              0.000069  \n",
            "55        2427     1113.10              0.000065  \n",
            "56        2424     1032.30              0.000061  \n",
            "57        2421      947.65              0.000057  \n",
            "58        2418      859.11              0.000052  \n",
            "59        2414      766.70              0.000047  \n",
            "60        2409      670.42              0.000041  \n",
            "61        2403      570.29              0.000036  \n",
            "62        2397      466.29              0.000029  \n",
            "63        2391      358.42              0.000023  \n",
            "64        2386      246.69              0.000016  \n",
            "65        2378      131.10              0.000009  \n"
          ]
        }
      ]
    },
    {
      "cell_type": "code",
      "execution_count": null,
      "metadata": {
        "colab": {
          "base_uri": "https://localhost:8080/"
        },
        "id": "tPzFpsPFWadC",
        "outputId": "f0831b1d-e468-47ab-9883-64c607fc64cd"
      },
      "outputs": [
        {
          "output_type": "stream",
          "name": "stdout",
          "text": [
            "[[0. 1. 0.]\n",
            " [0. 1. 0.]\n",
            " [0. 1. 0.]\n",
            " [0. 1. 0.]\n",
            " [0. 1. 0.]\n",
            " [0. 1. 0.]\n",
            " [0. 1. 0.]\n",
            " [0. 1. 0.]\n",
            " [0. 1. 0.]\n",
            " [0. 1. 0.]\n",
            " [0. 1. 0.]\n",
            " [0. 1. 0.]\n",
            " [0. 1. 0.]\n",
            " [0. 1. 0.]\n",
            " [0. 1. 0.]\n",
            " [0. 1. 0.]\n",
            " [0. 1. 0.]\n",
            " [0. 1. 0.]\n",
            " [0. 1. 0.]\n",
            " [0. 1. 0.]\n",
            " [1. 0. 0.]\n",
            " [1. 0. 0.]\n",
            " [1. 0. 0.]\n",
            " [1. 0. 0.]\n",
            " [1. 0. 0.]\n",
            " [1. 0. 0.]\n",
            " [1. 0. 0.]\n",
            " [1. 0. 0.]\n",
            " [1. 0. 0.]\n",
            " [1. 0. 0.]\n",
            " [1. 0. 0.]\n",
            " [1. 0. 0.]\n",
            " [1. 0. 0.]\n",
            " [1. 0. 0.]\n",
            " [1. 0. 0.]\n",
            " [1. 0. 0.]\n",
            " [1. 0. 0.]\n",
            " [1. 0. 0.]\n",
            " [1. 0. 0.]\n",
            " [1. 0. 0.]\n",
            " [0. 0. 1.]\n",
            " [0. 0. 1.]\n",
            " [0. 0. 1.]\n",
            " [0. 0. 1.]\n",
            " [0. 0. 1.]\n",
            " [0. 0. 1.]\n",
            " [0. 0. 1.]\n",
            " [0. 0. 1.]\n",
            " [0. 0. 1.]\n",
            " [0. 0. 1.]\n",
            " [0. 0. 1.]\n",
            " [0. 0. 1.]\n",
            " [0. 0. 1.]\n",
            " [0. 0. 1.]\n",
            " [0. 0. 1.]\n",
            " [0. 0. 1.]\n",
            " [0. 0. 1.]\n",
            " [0. 0. 1.]\n",
            " [0. 0. 1.]\n",
            " [0. 0. 1.]]\n",
            "[array(['Argentina', 'Brasil', 'Chile'], dtype=object)]\n",
            "    ano    pais    idh  populacao_geral  per_crian_cinc_soprep  kcal_medio  \\\n",
            "2  2019  Brasil  0.765        211049519                    7.2        2447   \n",
            "3  2018  Brasil  0.762        209469320                    7.2        2447   \n",
            "4  2017  Brasil  0.761        207833825                    7.1        2446   \n",
            "5  2016  Brasil  0.758        206163056                    7.1        2446   \n",
            "6  2015  Brasil  0.756        204471759                    7.1        2445   \n",
            "\n",
            "   diabeticos  diabetes_normalizado  Argentina  Brasil  Chile  \n",
            "2     15456.0              0.000073        0.0     1.0    0.0  \n",
            "3     15246.0              0.000073        0.0     1.0    0.0  \n",
            "4     14988.0              0.000072        0.0     1.0    0.0  \n",
            "5     14683.0              0.000071        0.0     1.0    0.0  \n",
            "6     14330.0              0.000070        0.0     1.0    0.0  \n"
          ]
        }
      ],
      "source": [
        "from sklearn.preprocessing import OneHotEncoder\n",
        "\n",
        "ohe = OneHotEncoder()\n",
        "transformed = ohe.fit_transform(df_atualizado[['pais']])\n",
        "\n",
        "print(transformed.toarray())\n",
        "print(ohe.categories_)\n",
        "df_atualizado[ohe.categories_[0]] = transformed.toarray()\n",
        "print(df_atualizado.head())"
      ]
    },
    {
      "cell_type": "code",
      "execution_count": null,
      "metadata": {
        "colab": {
          "base_uri": "https://localhost:8080/"
        },
        "id": "LPV8q10G_1H5",
        "outputId": "9a977826-ce43-4ae4-9c96-72fc9ebfd53f"
      },
      "outputs": [
        {
          "output_type": "stream",
          "name": "stdout",
          "text": [
            "Treino:\n",
            "     ano       pais    idh  populacao_geral  per_crian_cinc_soprep  \\\n",
            "39  2004  Argentina  0.787         38491970                   12.0   \n",
            "17  2004     Brasil  0.698        184006479                    6.4   \n",
            "33  2010  Argentina  0.829         40788453                   12.3   \n",
            "13  2008     Brasil  0.717        192030362                    6.6   \n",
            "36  2007  Argentina  0.817         39684303                   12.2   \n",
            "8   2013     Brasil  0.753        201035904                    6.9   \n",
            "63  2002      Chile  0.769         15684413                   11.5   \n",
            "2   2019     Brasil  0.765        211049519                    7.2   \n",
            "6   2015     Brasil  0.756        204471759                    7.1   \n",
            "24  2019  Argentina  0.845         44938712                   12.9   \n",
            "40  2003  Argentina  0.786         38087866                   11.9   \n",
            "31  2012  Argentina  0.834         41733271                   12.4   \n",
            "37  2006  Argentina  0.812         39289876                   12.2   \n",
            "35  2008  Argentina  0.821         40080159                   12.2   \n",
            "3   2018     Brasil  0.762        209469320                    7.2   \n",
            "47  2018      Chile  0.849         18729166                    9.9   \n",
            "46  2019      Chile  0.851         18952035                    9.9   \n",
            "51  2014      Chile  0.837         17758969                   10.1   \n",
            "34  2009  Argentina  0.821         40482786                   12.3   \n",
            "65  2000      Chile  0.756         15342350                   11.3   \n",
            "25  2018  Argentina  0.842         44494502                   12.8   \n",
            "21  2000     Brasil  0.685        174790339                    6.2   \n",
            "20  2001     Brasil  0.691        177196051                    6.2   \n",
            "16  2005     Brasil  0.700        186127108                    6.5   \n",
            "56  2009      Chile  0.822         16886184                   10.8   \n",
            "11  2010     Brasil  0.727        195713637                    6.8   \n",
            "15  2006     Brasil  0.702        188167353                    6.5   \n",
            "41  2002  Argentina  0.781         37681743                   11.9   \n",
            "52  2013      Chile  0.826         17571511                   10.3   \n",
            "10  2011     Brasil  0.731        197514541                    6.8   \n",
            "27  2016  Argentina  0.839         43590368                   12.6   \n",
            "9   2012     Brasil  0.735        199287292                    6.9   \n",
            "43  2000  Argentina  0.781         36870796                   11.6   \n",
            "60  2005      Chile  0.791         16182713                   11.3   \n",
            "12  2009     Brasil  0.719        193886505                    6.7   \n",
            "55  2010      Chile  0.803         17062531                   10.6   \n",
            "48  2017      Chile  0.847         18470435                   10.0   \n",
            "54  2011      Chile  0.815         17233584                   10.5   \n",
            "14  2007     Brasil  0.706        190130445                    6.6   \n",
            "19  2002     Brasil  0.699        179537523                    6.3   \n",
            "28  2015  Argentina  0.840         43131966                   12.5   \n",
            "64  2001      Chile  0.767         15516112                   11.4   \n",
            "5   2016     Brasil  0.758        206163056                    7.1   \n",
            "38  2005  Argentina  0.788         38892924                   12.1   \n",
            "26  2017  Argentina  0.843         44044811                   12.7   \n",
            "59  2006      Chile  0.791         16354507                   11.2   \n",
            "30  2013  Argentina  0.835         42202935                   12.4   \n",
            "29  2014  Argentina  0.836         42669500                   12.4   \n",
            "61  2004      Chile  0.785         16014972                   11.4   \n",
            "50  2015      Chile  0.842         17969356                   10.1   \n",
            "53  2012      Chile  0.821         17400359                   10.4   \n",
            "\n",
            "    kcal_medio  diabeticos  diabetes_normalizado  Argentina  Brasil  Chile  \n",
            "39        2392     1098.00              0.000029        1.0     0.0    0.0  \n",
            "17        2393     7297.70              0.000040        0.0     1.0    0.0  \n",
            "33        2405     1482.00              0.000036        1.0     0.0    0.0  \n",
            "13        2424    10522.00              0.000055        0.0     1.0    0.0  \n",
            "36        2398     1308.20              0.000033        1.0     0.0    0.0  \n",
            "8         2442    13480.00              0.000067        0.0     1.0    0.0  \n",
            "63        2391      358.42              0.000023        0.0     0.0    1.0  \n",
            "2         2447    15456.00              0.000073        0.0     1.0    0.0  \n",
            "6         2445    14330.00              0.000070        0.0     1.0    0.0  \n",
            "24        2414     1784.20              0.000040        1.0     0.0    0.0  \n",
            "40        2390     1019.80              0.000027        1.0     0.0    0.0  \n",
            "31        2407     1577.50              0.000038        1.0     0.0    0.0  \n",
            "37        2396     1242.20              0.000032        1.0     0.0    0.0  \n",
            "35        2401     1370.20              0.000034        1.0     0.0    0.0  \n",
            "3         2447    15246.00              0.000073        0.0     1.0    0.0  \n",
            "47        2438     1620.60              0.000087        0.0     0.0    1.0  \n",
            "46        2440     1666.60              0.000088        0.0     0.0    1.0  \n",
            "51        2430     1397.80              0.000079        0.0     0.0    1.0  \n",
            "34        2403     1428.10              0.000035        1.0     0.0    0.0  \n",
            "65        2378      131.10              0.000009        0.0     0.0    1.0  \n",
            "25        2412     1766.90              0.000040        1.0     0.0    0.0  \n",
            "21        2367     3310.40              0.000019        0.0     1.0    0.0  \n",
            "20        2371     4378.70              0.000025        0.0     1.0    0.0  \n",
            "16        2401     8175.40              0.000044        0.0     1.0    0.0  \n",
            "56        2424     1032.30              0.000061        0.0     0.0    1.0  \n",
            "11        2433    11848.00              0.000061        0.0     1.0    0.0  \n",
            "15        2409     9005.30              0.000048        0.0     1.0    0.0  \n",
            "41        2388      937.56              0.000025        1.0     0.0    0.0  \n",
            "52        2429     1332.40              0.000076        0.0     0.0    1.0  \n",
            "10        2436    12440.00              0.000063        0.0     1.0    0.0  \n",
            "27        2411     1720.00              0.000039        1.0     0.0    0.0  \n",
            "9         2439    12984.00              0.000065        0.0     1.0    0.0  \n",
            "43        2381      760.90              0.000021        1.0     0.0    0.0  \n",
            "60        2409      670.42              0.000041        0.0     0.0    1.0  \n",
            "12        2429    11209.00              0.000058        0.0     1.0    0.0  \n",
            "55        2427     1113.10              0.000065        0.0     0.0    1.0  \n",
            "48        2435     1570.70              0.000085        0.0     0.0    1.0  \n",
            "54        2428     1190.10              0.000069        0.0     0.0    1.0  \n",
            "14        2417     9787.60              0.000051        0.0     1.0    0.0  \n",
            "19        2376     3299.40              0.000018        0.0     1.0    0.0  \n",
            "28        2410     1690.50              0.000039        1.0     0.0    0.0  \n",
            "64        2386      246.69              0.000016        0.0     0.0    1.0  \n",
            "5         2446    14683.00              0.000071        0.0     1.0    0.0  \n",
            "38        2395     1172.10              0.000030        1.0     0.0    0.0  \n",
            "26        2412     1745.50              0.000040        1.0     0.0    0.0  \n",
            "59        2414      766.70              0.000047        0.0     0.0    1.0  \n",
            "30        2408     1619.20              0.000038        1.0     0.0    0.0  \n",
            "29        2409     1656.90              0.000039        1.0     0.0    0.0  \n",
            "61        2403      570.29              0.000036        0.0     0.0    1.0  \n",
            "50        2431     1459.30              0.000081        0.0     0.0    1.0  \n",
            "53        2429     1263.20              0.000073        0.0     0.0    1.0  \n",
            "\n",
            "Teste:\n",
            "     ano       pais    idh  populacao_geral  per_crian_cinc_soprep  \\\n",
            "49  2016      Chile  0.845         18209072                   10.0   \n",
            "57  2008      Chile  0.814         16708255                   10.9   \n",
            "58  2007      Chile  0.804         16530201                   11.1   \n",
            "42  2001  Argentina  0.786         37275644                   11.8   \n",
            "4   2017     Brasil  0.761        207833825                    7.1   \n",
            "32  2011  Argentina  0.835         41261490                   12.4   \n",
            "7   2014     Brasil  0.756        202763744                    7.0   \n",
            "18  2003     Brasil  0.695        181809244                    6.4   \n",
            "62  2003      Chile  0.776         15849649                   11.5   \n",
            "\n",
            "    kcal_medio  diabeticos  diabetes_normalizado  Argentina  Brasil  Chile  \n",
            "49        2433     1516.90              0.000083        0.0     0.0    1.0  \n",
            "57        2421      947.65              0.000057        0.0     0.0    1.0  \n",
            "58        2418      859.11              0.000052        0.0     0.0    1.0  \n",
            "42        2385      851.26              0.000023        1.0     0.0    0.0  \n",
            "4         2446    14988.00              0.000072        0.0     1.0    0.0  \n",
            "32        2406     1531.80              0.000037        1.0     0.0    0.0  \n",
            "7         2443    13929.00              0.000069        0.0     1.0    0.0  \n",
            "18        2385     6372.40              0.000035        0.0     1.0    0.0  \n",
            "62        2397      466.29              0.000029        0.0     0.0    1.0  \n"
          ]
        }
      ],
      "source": [
        "from sklearn.model_selection import train_test_split\n",
        "\n",
        "Tam_Teste = 0.15\n",
        "Semente_Aleatoria = 623119\n",
        "dataset_name = \"df_atualizado\"\n",
        "features = ['ano', 'idh', 'populacao_geral', 'per_crian_cinc_soprep',\n",
        "       'kcal_medio', 'Argentina', 'Brasil','Chile']\n",
        "target = ['diabetes_normalizado']\n",
        "\n",
        "\n",
        "indices = df_atualizado.index\n",
        "indices_treino, indices_teste = train_test_split(indices, test_size = Tam_Teste, random_state=Semente_Aleatoria)\n",
        "\n",
        "df_treino = df_atualizado.loc[indices_treino]\n",
        "df_teste = df_atualizado.loc[indices_teste]\n",
        "\n",
        "X_treino = df_treino.reindex(features, axis=1).values\n",
        "y_treino = df_treino.reindex(target, axis=1).values\n",
        "X_teste = df_teste.reindex(features, axis=1).values\n",
        "y_teste = df_teste.reindex(target, axis=1).values\n",
        "\n",
        "print(\"Treino:\")\n",
        "print(df_treino)\n",
        "print()\n",
        "print(\"Teste:\")\n",
        "print(df_teste)\n"
      ]
    },
    {
      "cell_type": "code",
      "source": [
        "#normalizando os dados\n",
        "from sklearn.preprocessing import StandardScaler\n",
        "X = df_atualizado.reindex(features, axis=1)\n",
        "sc = StandardScaler()\n",
        "sc.fit(X)\n",
        "X_norm = sc.transform(X)"
      ],
      "metadata": {
        "id": "S1e0ZvOgQf3C"
      },
      "execution_count": null,
      "outputs": []
    },
    {
      "cell_type": "code",
      "source": [
        "#cálculo da PCA\n",
        "from sklearn.decomposition import PCA\n",
        "pca = PCA()\n",
        "pca.fit(X_norm)\n",
        "X_pca = pca.transform(X_norm)"
      ],
      "metadata": {
        "id": "uVXKFJQrQgUe"
      },
      "execution_count": null,
      "outputs": []
    },
    {
      "cell_type": "code",
      "source": [
        "#gráficos da PCA, junto dos dois primeiros eixos das features\n",
        "X_new = pca.inverse_transform(X_pca)\n",
        "plt.scatter(X_pca[:, 0], X_pca[:, 1], alpha=0.1)\n",
        "plt.xlabel('component 1')\n",
        "plt.ylabel('component 2')\n",
        "plt.axis('equal');"
      ],
      "metadata": {
        "colab": {
          "base_uri": "https://localhost:8080/",
          "height": 283
        },
        "id": "-p-eDumWRHNj",
        "outputId": "5a1b7782-ee3c-4fca-eae4-22fccaacf353"
      },
      "execution_count": null,
      "outputs": [
        {
          "output_type": "display_data",
          "data": {
            "text/plain": [
              "<Figure size 432x288 with 1 Axes>"
            ],
            "image/png": "[encoded data removed]"
          },
          "metadata": {
            "needs_background": "light"
          }
        }
      ]
    },
    {
      "cell_type": "code",
      "source": [
        "#colorindo o gráfico\n",
        "plt.scatter(X_pca[:, 0], X_pca[:, 1], edgecolor='none', alpha=0.5, c=df_atualizado[\"diabetes_normalizado\"].values)\n",
        "plt.xlabel('component 1')\n",
        "plt.ylabel('component 2')\n",
        "plt.colorbar()"
      ],
      "metadata": {
        "colab": {
          "base_uri": "https://localhost:8080/",
          "height": 307
        },
        "id": "iQg_hfgrYWSM",
        "outputId": "b5d81299-13a0-4d75-dcdc-c9392319945e"
      },
      "execution_count": null,
      "outputs": [
        {
          "output_type": "execute_result",
          "data": {
            "text/plain": [
              "<matplotlib.colorbar.Colorbar at 0x7ff8a2babf90>"
            ]
          },
          "metadata": {},
          "execution_count": 62
        },
        {
          "output_type": "display_data",
          "data": {
            "text/plain": [
              "<Figure size 432x288 with 2 Axes>"
            ],
            "image/png": "[encoded data removed]"
          },
          "metadata": {
            "needs_background": "light"
          }
        }
      ]
    },
    {
      "cell_type": "code",
      "source": [
        "#gráfico com as três componentes principais\n",
        "from mpl_toolkits import mplot3d\n",
        "\n",
        "fig = plt.figure()\n",
        "ax = plt.axes(projection='3d')\n",
        "ax.scatter3D(X_pca[:, 0], X_pca[:, 1], X_pca[:, 2], c=df_atualizado[\"diabetes_normalizado\"].values)"
      ],
      "metadata": {
        "id": "nM3mDS0PYbBV",
        "colab": {
          "base_uri": "https://localhost:8080/",
          "height": 265
        },
        "outputId": "5449be94-bb43-43c4-dd99-9dc3d2626cee"
      },
      "execution_count": null,
      "outputs": [
        {
          "output_type": "execute_result",
          "data": {
            "text/plain": [
              "<mpl_toolkits.mplot3d.art3d.Path3DCollection at 0x7ff8a2afa390>"
            ]
          },
          "metadata": {},
          "execution_count": 63
        },
        {
          "output_type": "display_data",
          "data": {
            "text/plain": [
              "<Figure size 432x288 with 1 Axes>"
            ],
            "image/png": "[encoded data removed]"
          },
          "metadata": {
            "needs_background": "light"
          }
        }
      ]
    },
    {
      "cell_type": "code",
      "source": [
        "#averiguando a matriz de loadings\n",
        "component_names = [f\"PC{i+1}\" for i in range(X_pca.shape[1])]\n",
        "X_pca = pd.DataFrame(X_pca, columns=component_names)\n",
        "X_pca.head()\n",
        "\n",
        "loadings = pd.DataFrame(\n",
        "    pca.components_.T,  # transpose the matrix of loadings\n",
        "    columns=component_names,  # so the columns are the principal components\n",
        "    index=X.columns,  # and the rows are the original features\n",
        ")\n",
        "loadings"
      ],
      "metadata": {
        "colab": {
          "base_uri": "https://localhost:8080/",
          "height": 295
        },
        "id": "xXbJBkwXZnCj",
        "outputId": "d73e89ce-3439-4aa4-849e-1da7ea681ae8"
      },
      "execution_count": null,
      "outputs": [
        {
          "output_type": "execute_result",
          "data": {
            "text/plain": [
              "                            PC1       PC2       PC3       PC4       PC5  \\\n",
              "ano                   -0.038498  0.582165 -0.385925  0.581258  0.271597   \n",
              "idh                   -0.431231  0.280939 -0.163129  0.163766 -0.426505   \n",
              "populacao_geral        0.471436  0.010639 -0.210068 -0.026862  0.240458   \n",
              "per_crian_cinc_soprep -0.474130 -0.094153 -0.102400 -0.234738  0.787688   \n",
              "kcal_medio             0.096709  0.639600 -0.129767 -0.738234 -0.078538   \n",
              "Argentina             -0.283583 -0.292111 -0.557988 -0.151657 -0.199171   \n",
              "Brasil                 0.484957  0.011709 -0.099140  0.077647  0.113445   \n",
              "Chile                 -0.201374  0.280402  0.657128  0.074010  0.085726   \n",
              "\n",
              "                            PC6       PC7           PC8  \n",
              "ano                    0.314432  0.013049 -3.619902e-16  \n",
              "idh                   -0.706638 -0.020927  5.680539e-16  \n",
              "populacao_geral       -0.407458  0.713402 -2.383393e-16  \n",
              "per_crian_cinc_soprep -0.250347 -0.132751 -2.657961e-16  \n",
              "kcal_medio             0.103143 -0.054073  3.113995e-17  \n",
              "Argentina              0.263710  0.239491  5.773503e-01  \n",
              "Brasil                -0.302363 -0.557849  5.773503e-01  \n",
              "Chile                  0.038653  0.318358  5.773503e-01  "
            ],
            "text/html": [
              "\n",
              "  <div id=\"df-a94dc75a-a673-4f38-b61f-455edd0c6596\">\n",
              "    <div class=\"colab-df-container\">\n",
              "      <div>\n",
              "<style scoped>\n",
              "    .dataframe tbody tr th:only-of-type {\n",
              "        vertical-align: middle;\n",
              "    }\n",
              "\n",
              "    .dataframe tbody tr th {\n",
              "        vertical-align: top;\n",
              "    }\n",
              "\n",
              "    .dataframe thead th {\n",
              "        text-align: right;\n",
              "    }\n",
              "</style>\n",
              "<table border=\"1\" class=\"dataframe\">\n",
              "  <thead>\n",
              "    <tr style=\"text-align: right;\">\n",
              "      <th></th>\n",
              "      <th>PC1</th>\n",
              "      <th>PC2</th>\n",
              "      <th>PC3</th>\n",
              "      <th>PC4</th>\n",
              "      <th>PC5</th>\n",
              "      <th>PC6</th>\n",
              "      <th>PC7</th>\n",
              "      <th>PC8</th>\n",
              "    </tr>\n",
              "  </thead>\n",
              "  <tbody>\n",
              "    <tr>\n",
              "      <th>ano</th>\n",
              "      <td>-0.038498</td>\n",
              "      <td>0.582165</td>\n",
              "      <td>-0.385925</td>\n",
              "      <td>0.581258</td>\n",
              "      <td>0.271597</td>\n",
              "      <td>0.314432</td>\n",
              "      <td>0.013049</td>\n",
              "      <td>-3.619902e-16</td>\n",
              "    </tr>\n",
              "    <tr>\n",
              "      <th>idh</th>\n",
              "      <td>-0.431231</td>\n",
              "      <td>0.280939</td>\n",
              "      <td>-0.163129</td>\n",
              "      <td>0.163766</td>\n",
              "      <td>-0.426505</td>\n",
              "      <td>-0.706638</td>\n",
              "      <td>-0.020927</td>\n",
              "      <td>5.680539e-16</td>\n",
              "    </tr>\n",
              "    <tr>\n",
              "      <th>populacao_geral</th>\n",
              "      <td>0.471436</td>\n",
              "      <td>0.010639</td>\n",
              "      <td>-0.210068</td>\n",
              "      <td>-0.026862</td>\n",
              "      <td>0.240458</td>\n",
              "      <td>-0.407458</td>\n",
              "      <td>0.713402</td>\n",
              "      <td>-2.383393e-16</td>\n",
              "    </tr>\n",
              "    <tr>\n",
              "      <th>per_crian_cinc_soprep</th>\n",
              "      <td>-0.474130</td>\n",
              "      <td>-0.094153</td>\n",
              "      <td>-0.102400</td>\n",
              "      <td>-0.234738</td>\n",
              "      <td>0.787688</td>\n",
              "      <td>-0.250347</td>\n",
              "      <td>-0.132751</td>\n",
              "      <td>-2.657961e-16</td>\n",
              "    </tr>\n",
              "    <tr>\n",
              "      <th>kcal_medio</th>\n",
              "      <td>0.096709</td>\n",
              "      <td>0.639600</td>\n",
              "      <td>-0.129767</td>\n",
              "      <td>-0.738234</td>\n",
              "      <td>-0.078538</td>\n",
              "      <td>0.103143</td>\n",
              "      <td>-0.054073</td>\n",
              "      <td>3.113995e-17</td>\n",
              "    </tr>\n",
              "    <tr>\n",
              "      <th>Argentina</th>\n",
              "      <td>-0.283583</td>\n",
              "      <td>-0.292111</td>\n",
              "      <td>-0.557988</td>\n",
              "      <td>-0.151657</td>\n",
              "      <td>-0.199171</td>\n",
              "      <td>0.263710</td>\n",
              "      <td>0.239491</td>\n",
              "      <td>5.773503e-01</td>\n",
              "    </tr>\n",
              "    <tr>\n",
              "      <th>Brasil</th>\n",
              "      <td>0.484957</td>\n",
              "      <td>0.011709</td>\n",
              "      <td>-0.099140</td>\n",
              "      <td>0.077647</td>\n",
              "      <td>0.113445</td>\n",
              "      <td>-0.302363</td>\n",
              "      <td>-0.557849</td>\n",
              "      <td>5.773503e-01</td>\n",
              "    </tr>\n",
              "    <tr>\n",
              "      <th>Chile</th>\n",
              "      <td>-0.201374</td>\n",
              "      <td>0.280402</td>\n",
              "      <td>0.657128</td>\n",
              "      <td>0.074010</td>\n",
              "      <td>0.085726</td>\n",
              "      <td>0.038653</td>\n",
              "      <td>0.318358</td>\n",
              "      <td>5.773503e-01</td>\n",
              "    </tr>\n",
              "  </tbody>\n",
              "</table>\n",
              "</div>\n",
              "      <button class=\"colab-df-convert\" onclick=\"convertToInteractive('df-a94dc75a-a673-4f38-b61f-455edd0c6596')\"\n",
              "              title=\"Convert this dataframe to an interactive table.\"\n",
              "              style=\"display:none;\">\n",
              "        \n",
              "  <svg xmlns=\"http://www.w3.org/2000/svg\" height=\"24px\"viewBox=\"0 0 24 24\"\n",
              "       width=\"24px\">\n",
              "    <path d=\"M0 0h24v24H0V0z\" fill=\"none\"/>\n",
              "    <path d=\"M18.56 5.44l.94 2.06.94-2.06 2.06-.94-2.06-.94-.94-2.06-.94 2.06-2.06.94zm-11 1L8.5 8.5l.94-2.06 2.06-.94-2.06-.94L8.5 2.5l-.94 2.06-2.06.94zm10 10l.94 2.06.94-2.06 2.06-.94-2.06-.94-.94-2.06-.94 2.06-2.06.94z\"/><path d=\"M17.41 7.96l-1.37-1.37c-.4-.4-.92-.59-1.43-.59-.52 0-1.04.2-1.43.59L10.3 9.45l-7.72 7.72c-.78.78-.78 2.05 0 2.83L4 21.41c.39.39.9.59 1.41.59.51 0 1.02-.2 1.41-.59l7.78-7.78 2.81-2.81c.8-.78.8-2.07 0-2.86zM5.41 20L4 18.59l7.72-7.72 1.47 1.35L5.41 20z\"/>\n",
              "  </svg>\n",
              "      </button>\n",
              "      \n",
              "  <style>\n",
              "    .colab-df-container {\n",
              "      display:flex;\n",
              "      flex-wrap:wrap;\n",
              "      gap: 12px;\n",
              "    }\n",
              "\n",
              "    .colab-df-convert {\n",
              "      background-color: #E8F0FE;\n",
              "      border: none;\n",
              "      border-radius: 50%;\n",
              "      cursor: pointer;\n",
              "      display: none;\n",
              "      fill: #1967D2;\n",
              "      height: 32px;\n",
              "      padding: 0 0 0 0;\n",
              "      width: 32px;\n",
              "    }\n",
              "\n",
              "    .colab-df-convert:hover {\n",
              "      background-color: #E2EBFA;\n",
              "      box-shadow: 0px 1px 2px rgba(60, 64, 67, 0.3), 0px 1px 3px 1px rgba(60, 64, 67, 0.15);\n",
              "      fill: #174EA6;\n",
              "    }\n",
              "\n",
              "    [theme=dark] .colab-df-convert {\n",
              "      background-color: #3B4455;\n",
              "      fill: #D2E3FC;\n",
              "    }\n",
              "\n",
              "    [theme=dark] .colab-df-convert:hover {\n",
              "      background-color: #434B5C;\n",
              "      box-shadow: 0px 1px 3px 1px rgba(0, 0, 0, 0.15);\n",
              "      filter: drop-shadow(0px 1px 2px rgba(0, 0, 0, 0.3));\n",
              "      fill: #FFFFFF;\n",
              "    }\n",
              "  </style>\n",
              "\n",
              "      <script>\n",
              "        const buttonEl =\n",
              "          document.querySelector('#df-a94dc75a-a673-4f38-b61f-455edd0c6596 button.colab-df-convert');\n",
              "        buttonEl.style.display =\n",
              "          google.colab.kernel.accessAllowed ? 'block' : 'none';\n",
              "\n",
              "        async function convertToInteractive(key) {\n",
              "          const element = document.querySelector('#df-a94dc75a-a673-4f38-b61f-455edd0c6596');\n",
              "          const dataTable =\n",
              "            await google.colab.kernel.invokeFunction('convertToInteractive',\n",
              "                                                     [key], {});\n",
              "          if (!dataTable) return;\n",
              "\n",
              "          const docLinkHtml = 'Like what you see? Visit the ' +\n",
              "            '<a target=\"_blank\" href=https://colab.research.google.com/notebooks/data_table.ipynb>data table notebook</a>'\n",
              "            + ' to learn more about interactive tables.';\n",
              "          element.innerHTML = '';\n",
              "          dataTable['output_type'] = 'display_data';\n",
              "          await google.colab.output.renderOutput(dataTable, element);\n",
              "          const docLink = document.createElement('div');\n",
              "          docLink.innerHTML = docLinkHtml;\n",
              "          element.appendChild(docLink);\n",
              "        }\n",
              "      </script>\n",
              "    </div>\n",
              "  </div>\n",
              "  "
            ]
          },
          "metadata": {},
          "execution_count": 64
        }
      ]
    },
    {
      "cell_type": "code",
      "source": [
        "#gráfico da variância explicada\n",
        "def plot_variance(pca, width=8, dpi=100):\n",
        "    # Criar figura\n",
        "    fig, axs = plt.subplots(1, 2)\n",
        "    n = pca.n_components_\n",
        "    grid = np.arange(1, n + 1)\n",
        "    \n",
        "    # Fazer o cálculo da variância explicada\n",
        "    evr = pca.explained_variance_ratio_\n",
        "    axs[0].bar(grid, evr)\n",
        "    axs[0].set(\n",
        "        xlabel=\"Componente\", \n",
        "        title=\"Variancia explicada\", \n",
        "        ylim=(0.0, 1.0)\n",
        "    )\n",
        "    \n",
        "    # Variância acumulada\n",
        "    cv = np.cumsum(evr)\n",
        "    axs[1].plot(np.r_[0, grid], np.r_[0, cv], \"o-\")\n",
        "    axs[1].set(\n",
        "        xlabel=\"Componente\", \n",
        "        title=\"Variância acumulada\", \n",
        "        ylim=(0.0, 1.0)\n",
        "    )\n",
        "    \n",
        "    # Detalhes da figura\n",
        "    fig.set(figwidth=8, dpi=100)\n",
        "    return axs\n",
        "\n",
        "# Graficar\n",
        "plot_variance(pca)"
      ],
      "metadata": {
        "colab": {
          "base_uri": "https://localhost:8080/",
          "height": 456
        },
        "id": "WWizBXK4ahZ4",
        "outputId": "7a3aafc9-653a-47fd-f02d-11c8e405513a"
      },
      "execution_count": null,
      "outputs": [
        {
          "output_type": "execute_result",
          "data": {
            "text/plain": [
              "array([<matplotlib.axes._subplots.AxesSubplot object at 0x7ff8a2e34750>,\n",
              "       <matplotlib.axes._subplots.AxesSubplot object at 0x7ff8a26c8e50>],\n",
              "      dtype=object)"
            ]
          },
          "metadata": {},
          "execution_count": 65
        },
        {
          "output_type": "display_data",
          "data": {
            "text/plain": [
              "<Figure size 800x400 with 2 Axes>"
            ],
            "image/png": "[encoded data removed]"
          },
          "metadata": {
            "needs_background": "light"
          }
        }
      ]
    },
    {
      "cell_type": "markdown",
      "source": [
        "Analisando a variância explicada, podemos notar que 3 componentes são razoáveis para nosso sistema."
      ],
      "metadata": {
        "id": "X8XQJAAvd2hv"
      }
    },
    {
      "cell_type": "code",
      "source": [
        "from sklearn.preprocessing import MinMaxScaler\n",
        "\n",
        "scaler = MinMaxScaler() #Definindo o normalizador\n",
        "X_norm2 = scaler.fit_transform(df_atualizado[features].values) #Normalizando"
      ],
      "metadata": {
        "id": "5qHKmvOuasnr"
      },
      "execution_count": null,
      "outputs": []
    },
    {
      "cell_type": "code",
      "source": [
        "df_scaled = pd.DataFrame(X_norm2,columns = features) #Criando o DataFrame a partir com dados normalizados, que é um array de numpy\n",
        "df_scaled = pd.concat([df_scaled,pd.Series(df_atualizado['diabetes_normalizado']).reset_index(drop=True)],axis=1) #Concatenando a coluna 'diabetes_normalizado' ao DataFrame\n",
        "print(df_scaled.head(10)) #Exibindo as 10 primeiras linhas do dataset normalizado"
      ],
      "metadata": {
        "id": "PEREZXQadM9q",
        "colab": {
          "base_uri": "https://localhost:8080/"
        },
        "outputId": "08e16ea0-dbc4-4676-cd3e-6ffe29658a77"
      },
      "execution_count": null,
      "outputs": [
        {
          "output_type": "stream",
          "name": "stdout",
          "text": [
            "        ano       idh  populacao_geral  per_crian_cinc_soprep  kcal_medio  \\\n",
            "0  1.000000  0.481928         1.000000               0.149254      1.0000   \n",
            "1  0.947368  0.463855         0.991926               0.149254      1.0000   \n",
            "2  0.894737  0.457831         0.983569               0.134328      0.9875   \n",
            "3  0.842105  0.439759         0.975032               0.134328      0.9875   \n",
            "4  0.789474  0.427711         0.966390               0.134328      0.9750   \n",
            "5  0.736842  0.427711         0.957662               0.119403      0.9500   \n",
            "6  0.684211  0.409639         0.948834               0.104478      0.9375   \n",
            "7  0.631579  0.301205         0.939899               0.104478      0.9000   \n",
            "8  0.578947  0.277108         0.930841               0.089552      0.8625   \n",
            "9  0.526316  0.253012         0.921639               0.089552      0.8250   \n",
            "\n",
            "   Argentina  Brasil  Chile  diabetes_normalizado  \n",
            "0        0.0     1.0    0.0              0.000073  \n",
            "1        0.0     1.0    0.0              0.000073  \n",
            "2        0.0     1.0    0.0              0.000072  \n",
            "3        0.0     1.0    0.0              0.000071  \n",
            "4        0.0     1.0    0.0              0.000070  \n",
            "5        0.0     1.0    0.0              0.000069  \n",
            "6        0.0     1.0    0.0              0.000067  \n",
            "7        0.0     1.0    0.0              0.000065  \n",
            "8        0.0     1.0    0.0              0.000063  \n",
            "9        0.0     1.0    0.0              0.000061  \n"
          ]
        }
      ]
    },
    {
      "cell_type": "code",
      "source": [
        "from sklearn.decomposition import PCA\n",
        "import numpy as np\n",
        "\n",
        "X = df_scaled[features] #Definindo o X como as features\n",
        "y = df_scaled['diabetes_normalizado']  #Definindo o y como o target\n",
        "\n",
        "pca = PCA(n_components=3) #Calculando o PCA para três componentes\n",
        "pca.fit(X)                #Ajustando o PCA\n",
        "X_pca = pca.transform(X)  #Realizando o PCA"
      ],
      "metadata": {
        "id": "JhaxISL2j9em"
      },
      "execution_count": null,
      "outputs": []
    },
    {
      "cell_type": "code",
      "source": [
        "print(np.sum(pca.explained_variance_ratio_)) #Calculando a variância explicada acumulada para as três componentes principais"
      ],
      "metadata": {
        "colab": {
          "base_uri": "https://localhost:8080/"
        },
        "id": "XnJ3n9XBiyVz",
        "outputId": "17d77e4e-7ee5-487d-a8f6-29c0f9ae136f"
      },
      "execution_count": null,
      "outputs": [
        {
          "output_type": "stream",
          "name": "stdout",
          "text": [
            "0.9888738336473011\n"
          ]
        }
      ]
    },
    {
      "cell_type": "code",
      "source": [
        "from sklearn.model_selection import train_test_split\n",
        "\n",
        "X_train, X_test, y_train, y_test = train_test_split( #Chamando a função train_test_split, atribuindo os valores nas variáveis a esquerda da igualdade\n",
        "    X_pca,                                           #Dados das componentes principais do PCA\n",
        "    y,                                               #Dados do target\n",
        "    test_size=0.2,                                   #Tamanho do conjunto de teste\n",
        "    random_state=42)                                 #Semente aleatória"
      ],
      "metadata": {
        "id": "xg7fsp_pjssr"
      },
      "execution_count": null,
      "outputs": []
    },
    {
      "cell_type": "markdown",
      "source": [
        "**Cálculo de correlação do dataset**"
      ],
      "metadata": {
        "id": "m4nWslNhlBvo"
      }
    },
    {
      "cell_type": "code",
      "source": [
        "df_pca_train = pd.DataFrame(X_pca,columns=['PC1', 'PC2', 'PC3']) #Define as colunas das PC em um dataframe, utilizando os dados do X_pca\n",
        "df_pca_train['diabetes_normalizado'] = y                                        #Adiciona a coluna preço, com os dados de y\n",
        "print(df_pca_train.head(10))                                     #Exibe as 10 primeiras linhas do dataset\n",
        "corrmat = df_pca_train.corr()                                    #Cálculo da correlação\n",
        "print(round(corrmat,4))                                          #Exibe a correlação com 4 casas decimais"
      ],
      "metadata": {
        "colab": {
          "base_uri": "https://localhost:8080/"
        },
        "id": "pmxNayi6j3i3",
        "outputId": "5e8220b2-bd4f-4b33-8f01-e08314e7fea9"
      },
      "execution_count": null,
      "outputs": [
        {
          "output_type": "stream",
          "name": "stdout",
          "text": [
            "        PC1       PC2       PC3  diabetes_normalizado\n",
            "0  1.113889  0.011925 -0.668789              0.000073\n",
            "1  1.116300  0.010221 -0.623021              0.000073\n",
            "2  1.120119  0.008468 -0.574636              0.000072\n",
            "3  1.122309  0.006820 -0.528816              0.000071\n",
            "4  1.121650  0.003127 -0.478235              0.000070\n",
            "5  1.122492 -0.000639 -0.425060              0.000069\n",
            "6  1.129853 -0.002588 -0.372248              0.000067\n",
            "7  1.157362 -0.012643 -0.272752              0.000065\n",
            "8  1.164665 -0.019060 -0.203851              0.000063\n",
            "9  1.165674 -0.027308 -0.134957              0.000061\n",
            "                         PC1     PC2     PC3  diabetes_normalizado\n",
            "PC1                   1.0000  0.0000 -0.0000                0.2007\n",
            "PC2                   0.0000  1.0000  0.0000                0.5381\n",
            "PC3                  -0.0000  0.0000  1.0000               -0.7504\n",
            "diabetes_normalizado  0.2007  0.5381 -0.7504                1.0000\n"
          ]
        }
      ]
    },
    {
      "cell_type": "markdown",
      "source": [
        "**Regressão linear do pca:**"
      ],
      "metadata": {
        "id": "MRoIeOhAnj7H"
      }
    },
    {
      "cell_type": "code",
      "source": [
        "from sklearn.linear_model import LinearRegression\n",
        "\n",
        "# cria o modelo\n",
        "modelo_linear = LinearRegression()\n",
        "\n",
        "# treina o modelo\n",
        "modelo_linear.fit(X_train, y_train)"
      ],
      "metadata": {
        "colab": {
          "base_uri": "https://localhost:8080/"
        },
        "id": "xMXgCrUBk_gc",
        "outputId": "36d9958d-fe56-4e9a-838c-c9c6ca5ecb73"
      },
      "execution_count": null,
      "outputs": [
        {
          "output_type": "execute_result",
          "data": {
            "text/plain": [
              "LinearRegression()"
            ]
          },
          "metadata": {},
          "execution_count": 27
        }
      ]
    },
    {
      "cell_type": "code",
      "source": [
        "from sklearn.metrics import mean_squared_error\n",
        "\n",
        "y_verdadeiro = y_test\n",
        "y_previsao = modelo_linear.predict(X_test)\n",
        "\n",
        "RMSE = mean_squared_error(y_verdadeiro, y_previsao, squared=False) #Cálculo do RMSE\n",
        "\n",
        "print(f\"O RMSE do modelo linear foi de {RMSE} de diabéticos.\")"
      ],
      "metadata": {
        "colab": {
          "base_uri": "https://localhost:8080/"
        },
        "id": "OhRgCLASk8O9",
        "outputId": "d77d2825-b630-4189-b867-ea73fa294770"
      },
      "execution_count": null,
      "outputs": [
        {
          "output_type": "stream",
          "name": "stdout",
          "text": [
            "O RMSE do modelo linear foi de 6.637586195293743e-06 de diabéticos.\n"
          ]
        }
      ]
    },
    {
      "cell_type": "code",
      "source": [
        "from sklearn.inspection import permutation_importance\n",
        "N_REPETICOES = 10\n",
        "\n",
        "\n",
        "def R2_1param(modelo, x, y):\n",
        "    \"\"\"Computa o coef. de determinação quando hip. alt. não tem coef. linear.\"\"\"\n",
        "    y_pred = modelo.predict(x).ravel()\n",
        "    y_true = (np.array(y)).ravel()\n",
        "    return 1 - sum((y_true - y_pred) ** 2) / sum(y_true**2)\n",
        "\n",
        "\n",
        "X_local = X_train\n",
        "y_local = y_train\n",
        "\n",
        "R2 = R2_1param(modelo_linear, X_local, y_local)\n",
        "print(f\"O R^2 da previsão é de {R2}\")\n",
        "\n",
        "# Aqui que calculamos a importância das features\n",
        "r = permutation_importance(\n",
        "    modelo_linear,\n",
        "    X_local,\n",
        "    y_local,\n",
        "    n_repeats = N_REPETICOES,\n",
        "    random_state = Semente_Aleatoria,\n",
        "    scoring=R2_1param,\n",
        ")\n",
        "\n",
        "print()\n",
        "\n",
        "# Aqui nós exibimos os resultados obtidos\n",
        "for i in r.importances_mean.argsort()[::-1]:\n",
        "    if r.importances_mean[i] - 2 * r.importances_std[i] > 0:\n",
        "        print(f\"{features[i]:<8}\"\n",
        "              f\"{r.importances_mean[i]:.12f}\"\n",
        "              f\" +/- {r.importances_std[i]:.12f}\")"
      ],
      "metadata": {
        "colab": {
          "base_uri": "https://localhost:8080/"
        },
        "id": "i80W2CuJrkd-",
        "outputId": "cc6c3712-ce03-4464-9339-9b0e071c193d"
      },
      "execution_count": null,
      "outputs": [
        {
          "output_type": "stream",
          "name": "stdout",
          "text": [
            "O R^2 da previsão é de 0.9824132048056541\n",
            "\n",
            "populacao_geral0.198806118368 +/- 0.032220937495\n",
            "idh     0.094483586341 +/- 0.016618212651\n",
            "ano     0.016106435173 +/- 0.003226184014\n"
          ]
        }
      ]
    },
    {
      "cell_type": "code",
      "source": [
        "X_local = X_test\n",
        "y_local = y_test\n",
        "\n",
        "R2 = R2_1param(modelo_linear, X_local, y_local)\n",
        "print(f\"O R^2 da previsão é de {R2}\")\n",
        "\n",
        "# Aqui que calculamos a importância das features\n",
        "r = permutation_importance(\n",
        "    modelo_linear,\n",
        "    X_local,\n",
        "    y_local,\n",
        "    n_repeats=N_REPETICOES,\n",
        "    random_state=Semente_Aleatoria,\n",
        "    scoring=R2_1param,\n",
        ")\n",
        "\n",
        "print()\n",
        "\n",
        "# Aqui nós exibimos os resultados obtidos\n",
        "for i in r.importances_mean.argsort()[::-1]:\n",
        "    if r.importances_mean[i] - 2 * r.importances_std[i] > 0:\n",
        "        print(f\"{features[i]:<8}\"\n",
        "              f\"{r.importances_mean[i]:.3f}\"\n",
        "              f\" +/- {r.importances_std[i]:.3f}\")"
      ],
      "metadata": {
        "colab": {
          "base_uri": "https://localhost:8080/"
        },
        "id": "ztXF_z_NsWr8",
        "outputId": "1f361468-825a-4a2b-9b20-2989e2a50db7"
      },
      "execution_count": null,
      "outputs": [
        {
          "output_type": "stream",
          "name": "stdout",
          "text": [
            "O R^2 da previsão é de 0.9865912488452877\n",
            "\n",
            "populacao_geral0.118 +/- 0.035\n",
            "idh     0.062 +/- 0.024\n"
          ]
        }
      ]
    },
    {
      "cell_type": "markdown",
      "source": [
        "**Floresta aleatória do pca:**"
      ],
      "metadata": {
        "id": "6zqv0sLxnpsJ"
      }
    },
    {
      "cell_type": "code",
      "source": [
        "from sklearn.ensemble import RandomForestRegressor\n",
        "\n",
        "# cria o modelo\n",
        "SEMENTE_ALEATORIA = 42875\n",
        "modelo_rf = RandomForestRegressor(random_state=SEMENTE_ALEATORIA)\n",
        "\n",
        "# treina o modelo\n",
        "modelo_rf.fit(X_train, y_train)"
      ],
      "metadata": {
        "colab": {
          "base_uri": "https://localhost:8080/"
        },
        "id": "y9GJObpum11K",
        "outputId": "210af030-7bc2-4be6-917e-7f18bc5029b2"
      },
      "execution_count": null,
      "outputs": [
        {
          "output_type": "execute_result",
          "data": {
            "text/plain": [
              "RandomForestRegressor(random_state=42875)"
            ]
          },
          "metadata": {},
          "execution_count": 31
        }
      ]
    },
    {
      "cell_type": "code",
      "source": [
        "from sklearn.metrics import mean_squared_error\n",
        "\n",
        "y_verdadeiro = y_test\n",
        "y_previsao = modelo_rf.predict(X_test)\n",
        "\n",
        "RMSE = mean_squared_error(y_verdadeiro, y_previsao, squared=False)\n",
        "\n",
        "print(f\"O RMSE da floresta aleatória foi de {RMSE} de diabéticos.\")"
      ],
      "metadata": {
        "colab": {
          "base_uri": "https://localhost:8080/"
        },
        "id": "iY6jQcRcnK8W",
        "outputId": "8229dd4b-079e-44da-a422-af1009d8163b"
      },
      "execution_count": null,
      "outputs": [
        {
          "output_type": "stream",
          "name": "stdout",
          "text": [
            "O RMSE da floresta aleatória foi de 1.7516490848098487e-06 de diabéticos.\n"
          ]
        }
      ]
    },
    {
      "cell_type": "code",
      "source": [
        "N_REPETICOES = 10\n",
        "\n",
        "\n",
        "def R2_1param(modelo, x, y):\n",
        "    \"\"\"Computa o coef. de determinação quando hip. alt. não tem coef. linear.\"\"\"\n",
        "    y_pred = modelo.predict(x).ravel()\n",
        "    y_true = (np.array(y)).ravel()\n",
        "    return 1 - sum((y_true - y_pred) ** 2) / sum(y_true**2)\n",
        "\n",
        "\n",
        "X_local = X_train\n",
        "y_local = y_train\n",
        "\n",
        "R2 = R2_1param(modelo_rf, X_local, y_local)\n",
        "print(f\"O R^2 da previsão é de {R2}\")\n",
        "\n",
        "# Aqui que calculamos a importância das features\n",
        "r = permutation_importance(\n",
        "    modelo_rf,\n",
        "    X_local,\n",
        "    y_local,\n",
        "    n_repeats = N_REPETICOES,\n",
        "    random_state = Semente_Aleatoria,\n",
        "    scoring=R2_1param,\n",
        ")\n",
        "\n",
        "print()\n",
        "\n",
        "# Aqui nós exibimos os resultados obtidos\n",
        "for i in r.importances_mean.argsort()[::-1]:\n",
        "    if r.importances_mean[i] - 2 * r.importances_std[i] > 0:\n",
        "        print(f\"{features[i]:<8}\"\n",
        "              f\"{r.importances_mean[i]:.12f}\"\n",
        "              f\" +/- {r.importances_std[i]:.12f}\")"
      ],
      "metadata": {
        "id": "dv7fV3XepBlg",
        "colab": {
          "base_uri": "https://localhost:8080/"
        },
        "outputId": "3caaae30-d845-45bb-a9ac-0e0a81afaf71"
      },
      "execution_count": null,
      "outputs": [
        {
          "output_type": "stream",
          "name": "stdout",
          "text": [
            "O R^2 da previsão é de 0.9991856721446719\n",
            "\n",
            "populacao_geral0.151231982296 +/- 0.032663994410\n",
            "idh     0.095133658183 +/- 0.020318393311\n",
            "ano     0.007383299292 +/- 0.001020921599\n"
          ]
        }
      ]
    },
    {
      "cell_type": "code",
      "source": [
        "X_local = X_test\n",
        "y_local = y_test\n",
        "\n",
        "R2 = R2_1param(modelo_rf, X_local, y_local)\n",
        "print(f\"O R^2 da previsão é de {R2}\")\n",
        "\n",
        "# Aqui que calculamos a importância das features\n",
        "r = permutation_importance(\n",
        "    modelo_rf,\n",
        "    X_local,\n",
        "    y_local,\n",
        "    n_repeats=N_REPETICOES,\n",
        "    random_state=Semente_Aleatoria,\n",
        "    scoring=R2_1param,\n",
        ")\n",
        "\n",
        "print()\n",
        "\n",
        "# Aqui nós exibimos os resultados obtidos\n",
        "for i in r.importances_mean.argsort()[::-1]:\n",
        "    if r.importances_mean[i] - 2 * r.importances_std[i] > 0:\n",
        "        print(f\"{features[i]:<8}\"\n",
        "              f\"{r.importances_mean[i]:.3f}\"\n",
        "              f\" +/- {r.importances_std[i]:.3f}\")"
      ],
      "metadata": {
        "colab": {
          "base_uri": "https://localhost:8080/"
        },
        "id": "hs-i3TKEtLeC",
        "outputId": "986880c4-7b73-4661-c670-6e6be7a2937a"
      },
      "execution_count": null,
      "outputs": [
        {
          "output_type": "stream",
          "name": "stdout",
          "text": [
            "O R^2 da previsão é de 0.9990661820959915\n",
            "\n",
            "populacao_geral0.101 +/- 0.031\n",
            "idh     0.052 +/- 0.025\n",
            "ano     0.003 +/- 0.001\n"
          ]
        }
      ]
    },
    {
      "cell_type": "markdown",
      "source": [
        "**Árvore de decisão do PCA:**"
      ],
      "metadata": {
        "id": "9QaVkoPTosO0"
      }
    },
    {
      "cell_type": "code",
      "source": [
        "from sklearn.tree import DecisionTreeRegressor\n",
        "\n",
        "# cria o modelo\n",
        "Semente_Aleatoria = 623119\n",
        "modelo_dt = DecisionTreeRegressor(random_state=Semente_Aleatoria)\n",
        "\n",
        "# treina o modelo\n",
        "modelo_dt.fit(X_train, y_train)"
      ],
      "metadata": {
        "id": "aQ_E_5w1nS1F",
        "colab": {
          "base_uri": "https://localhost:8080/"
        },
        "outputId": "5cc41958-4cdb-4071-eb67-969d20722593"
      },
      "execution_count": null,
      "outputs": [
        {
          "output_type": "execute_result",
          "data": {
            "text/plain": [
              "DecisionTreeRegressor(random_state=623119)"
            ]
          },
          "metadata": {},
          "execution_count": 35
        }
      ]
    },
    {
      "cell_type": "code",
      "source": [
        "from sklearn.metrics import mean_squared_error\n",
        "\n",
        "y_verdadeiro = y_test\n",
        "y_previsao = modelo_dt.predict(X_test)\n",
        "\n",
        "RMSE_pca_dt = mean_squared_error(y_verdadeiro, y_previsao, squared=False)\n",
        "\n",
        "print(f\"O RMSE do modelo árvore de decisão foi de {RMSE_pca_dt} porcentagem de diabéticos por milhar (normalizado).\")"
      ],
      "metadata": {
        "colab": {
          "base_uri": "https://localhost:8080/"
        },
        "id": "pIUXwUyaouaX",
        "outputId": "f1247827-cc00-480e-9f37-206003772965"
      },
      "execution_count": null,
      "outputs": [
        {
          "output_type": "stream",
          "name": "stdout",
          "text": [
            "O RMSE do modelo árvore de decisão foi de 4.148558279303492e-06 porcentagem de diabéticos por milhar (normalizado).\n"
          ]
        }
      ]
    },
    {
      "cell_type": "code",
      "source": [
        "N_REPETICOES = 10\n",
        "\n",
        "\n",
        "def R2_1param(modelo, x, y):\n",
        "    \"\"\"Computa o coef. de determinação quando hip. alt. não tem coef. linear.\"\"\"\n",
        "    y_pred = modelo.predict(x).ravel()\n",
        "    y_true = (np.array(y)).ravel()\n",
        "    return 1 - sum((y_true - y_pred) ** 2) / sum(y_true**2)\n",
        "\n",
        "\n",
        "X_local = X_train\n",
        "y_local = y_train\n",
        "\n",
        "R2 = R2_1param(modelo_dt, X_local, y_local)\n",
        "print(f\"O R^2 da previsão é de {R2}\")\n",
        "\n",
        "# Aqui que calculamos a importância das features\n",
        "r = permutation_importance(\n",
        "    modelo_dt,\n",
        "    X_local,\n",
        "    y_local,\n",
        "    n_repeats = N_REPETICOES,\n",
        "    random_state = Semente_Aleatoria,\n",
        "    scoring=R2_1param,\n",
        ")\n",
        "\n",
        "print()\n",
        "\n",
        "# Aqui nós exibimos os resultados obtidos\n",
        "for i in r.importances_mean.argsort()[::-1]:\n",
        "    if r.importances_mean[i] - 2 * r.importances_std[i] > 0:\n",
        "        print(f\"{features[i]:<8}\"\n",
        "              f\"{r.importances_mean[i]:.12f}\"\n",
        "              f\" +/- {r.importances_std[i]:.12f}\")"
      ],
      "metadata": {
        "colab": {
          "base_uri": "https://localhost:8080/"
        },
        "outputId": "c5c45766-35f6-42ea-a0d6-3e05289d3ed9",
        "id": "1dCoZNfBtty2"
      },
      "execution_count": null,
      "outputs": [
        {
          "output_type": "stream",
          "name": "stdout",
          "text": [
            "O R^2 da previsão é de 0.9999999997749511\n",
            "\n",
            "populacao_geral0.213358309583 +/- 0.047232512853\n",
            "idh     0.184670202704 +/- 0.040672792277\n",
            "ano     0.016381396645 +/- 0.005992349153\n"
          ]
        }
      ]
    },
    {
      "cell_type": "code",
      "source": [
        "X_local = X_test\n",
        "y_local = y_test\n",
        "\n",
        "R2 = R2_1param(modelo_dt, X_local, y_local)\n",
        "print(f\"O R^2 da previsão é de {R2}\")\n",
        "\n",
        "# Aqui que calculamos a importância das features\n",
        "r = permutation_importance(\n",
        "    modelo_dt,\n",
        "    X_local,\n",
        "    y_local,\n",
        "    n_repeats=N_REPETICOES,\n",
        "    random_state=Semente_Aleatoria,\n",
        "    scoring=R2_1param,\n",
        ")\n",
        "\n",
        "print()\n",
        "\n",
        "# Aqui nós exibimos os resultados obtidos\n",
        "for i in r.importances_mean.argsort()[::-1]:\n",
        "    if r.importances_mean[i] - 2 * r.importances_std[i] > 0:\n",
        "        print(f\"{features[i]:<8}\"\n",
        "              f\"{r.importances_mean[i]:.3f}\"\n",
        "              f\" +/- {r.importances_std[i]:.3f}\")"
      ],
      "metadata": {
        "colab": {
          "base_uri": "https://localhost:8080/"
        },
        "outputId": "a06ecf26-d849-45a9-e329-bcb3956b2b88",
        "id": "JRsmYpRrttzH"
      },
      "execution_count": null,
      "outputs": [
        {
          "output_type": "stream",
          "name": "stdout",
          "text": [
            "O R^2 da previsão é de 0.994762037627614\n",
            "\n",
            "populacao_geral0.169 +/- 0.062\n"
          ]
        }
      ]
    },
    {
      "cell_type": "markdown",
      "source": [
        "##### **Análise das performances**\n"
      ],
      "metadata": {
        "id": "1TBM0k-cvAKE"
      }
    },
    {
      "cell_type": "markdown",
      "source": [
        "Comparando os resultados obtidos nas regresões, podemos concluir que a performance do método não supervisionado melhorou em relação a performance do método supervisionado."
      ],
      "metadata": {
        "id": "1IxiCPGWvS4S"
      }
    },
    {
      "cell_type": "markdown",
      "source": [
        "#### **Clustering**"
      ],
      "metadata": {
        "id": "8UPeaMcWxU4O"
      }
    },
    {
      "cell_type": "code",
      "source": [
        "from sklearn.cluster import KMeans\n",
        "import matplotlib.pyplot as plt\n",
        "n_clusters=3  #Define três clusters\n",
        "\n",
        "kmeans = KMeans(            #Inicializando o K-Means\n",
        "    n_clusters=n_clusters,  #Definindo número de clusters\n",
        "    init='random',          #Inicialização randomica, aqui você pode tentar o K-Means++ :)\n",
        "    n_init=10,              #Número de inicializações\n",
        "    max_iter=300,           #Número máximo de iterações\n",
        "    tol=1e-04,              #Tolerância para variação da coordenada dos centróides para definir a convergência\n",
        "    random_state=0          #Define a semente aleatória\n",
        ")\n",
        "\n",
        "y_kmeans = kmeans.fit_predict(X_norm) #Fita o K-Means"
      ],
      "metadata": {
        "id": "XnMTQeIcxX43"
      },
      "execution_count": null,
      "outputs": []
    },
    {
      "cell_type": "code",
      "source": [
        "from sklearn.metrics.pairwise import pairwise_distances_argmin\n",
        "\n",
        "centroids = kmeans.cluster_centers_ #Extraindo os centróides do K-Means\n",
        "labels = pairwise_distances_argmin(X_norm2, centroids) #Usando a função pairwise_distances_argmin \n",
        "                                                      #para dar os labels aos clusters\n",
        "colors = [\"r\", \"m\", \"b\", \"y\", \"k\"] #Definindo a paleta de cores\n",
        "\n",
        "fig = plt.figure(figsize=(18, 4)) #Definindo a figura e seu tamanho\n",
        "ax = fig.add_subplot()             #Criando um subplot\n",
        "\n",
        "for k, col in zip(range(n_clusters), colors): #Desempacotando a lista de número de cluster e cores.\n",
        "    my_members = labels == k  #Define quais pontos são membros de cada cluster\n",
        "    #print(my_members)        #Descomente essa linha para entender como se comporta a variável my_members\n",
        "    cluster_center = centroids[k] #Pega as coordenadas do centróide k\n",
        "    ax.plot(                      #Plota os pontos do centróide k\n",
        "        X_norm[my_members, 0],    #Coordenada do eixo-x\n",
        "        X_norm[my_members, 1],    #Coordenada do eixo-y\n",
        "        markerfacecolor=col,      #Define a cor do ponto\n",
        "        marker=\".\",               #Define o estilo do ponto\n",
        "        markeredgecolor=\"w\",      #Define a cor de contorno do ponto\n",
        "        linewidth=0               #Largura de linha zero, para não ligar os pontos\n",
        "    )\n",
        "    ax.plot(                      #Plotando os centróides\n",
        "        cluster_center[0],        #Coordenada x do centróide\n",
        "        cluster_center[1],        #Coordenada y do centróide\n",
        "        marker=\"o\",               #Define estilo do ponto\n",
        "        markerfacecolor=col,      #Define cor do ponto\n",
        "        markeredgecolor=\"k\",      #Define a cor do contorno do ponto\n",
        "        markersize=6,             #Define o tamanho do ponto\n",
        "        linewidth=0               #Largura de linha zero, para não ligar os pontos\n",
        "    )\n",
        "\n",
        "ax.set_title(\"KMeans\")  #Título do gráfico\n",
        "plt.xlabel('Feature 1') #Nome da componente x\n",
        "plt.ylabel('Feature 2') #Nome da componente y\n",
        "\n",
        "plt.show() #Mostrar o gráfico"
      ],
      "metadata": {
        "colab": {
          "base_uri": "https://localhost:8080/",
          "height": 295
        },
        "id": "Rmpt0b8hgrpK",
        "outputId": "0e52e368-ebda-434d-f7ad-87097d258d14"
      },
      "execution_count": null,
      "outputs": [
        {
          "output_type": "display_data",
          "data": {
            "text/plain": [
              "<Figure size 1296x288 with 1 Axes>"
            ],
            "image/png": "[encoded data removed]"
          },
          "metadata": {
            "needs_background": "light"
          }
        }
      ]
    },
    {
      "cell_type": "code",
      "source": [
        "#transformação do PCA\n",
        "pca = PCA()\n",
        "pca.fit(X_norm)\n",
        "X_pca = pca.transform(X_norm)"
      ],
      "metadata": {
        "id": "kEtu4t6rguk7"
      },
      "execution_count": null,
      "outputs": []
    },
    {
      "cell_type": "code",
      "source": [
        "#K-means para com o PCA\n",
        "n_clusters=3\n",
        "\n",
        "kmeans = KMeans(\n",
        "    n_clusters=n_clusters, \n",
        "    init='random',\n",
        "    n_init=10, \n",
        "    max_iter=300, \n",
        "    tol=1e-04, \n",
        "    random_state=0\n",
        ")\n",
        "\n",
        "y_kmeans = kmeans.fit_predict(X_pca)"
      ],
      "metadata": {
        "id": "nujTftDsgw2M"
      },
      "execution_count": null,
      "outputs": []
    },
    {
      "cell_type": "code",
      "source": [
        "#gráficos em função das duas componentes principais\n",
        "centroids = kmeans.cluster_centers_\n",
        "labels = pairwise_distances_argmin(X_pca, centroids)\n",
        "colors = [\"r\", \"m\", \"b\", \"y\", \"k\"]\n",
        "\n",
        "fig = plt.figure(figsize=(14.4, 4))\n",
        "ax = fig.add_subplot()\n",
        "\n",
        "for k, col in zip(range(n_clusters), colors):\n",
        "    my_members = labels == k\n",
        "    cluster_center = centroids[k]\n",
        "    ax.plot(\n",
        "        X_pca[my_members, 0],\n",
        "        X_pca[my_members, 1],\n",
        "        \"w\", \n",
        "        markerfacecolor=col,\n",
        "        marker=\".\",\n",
        "        alpha = 0.5,\n",
        "        linewidth=0)\n",
        "    ax.plot(\n",
        "        cluster_center[0],\n",
        "        cluster_center[1],\n",
        "        \"o\",\n",
        "        markerfacecolor=col,\n",
        "        markersize=6,\n",
        "        alpha = 1.0,\n",
        "        linewidth=0\n",
        "    )\n",
        "\n",
        "ax.set_title(\"KMeans\")\n",
        "plt.xlabel('component 1')\n",
        "plt.ylabel('component 2')\n",
        "\n",
        "plt.show()"
      ],
      "metadata": {
        "colab": {
          "base_uri": "https://localhost:8080/",
          "height": 295
        },
        "id": "9LZzH0Nigypl",
        "outputId": "9174ba68-b586-4ab7-8991-6c40e3bef167"
      },
      "execution_count": null,
      "outputs": [
        {
          "output_type": "display_data",
          "data": {
            "text/plain": [
              "<Figure size 1036.8x288 with 1 Axes>"
            ],
            "image/png": "[encoded data removed]"
          },
          "metadata": {
            "needs_background": "light"
          }
        }
      ]
    },
    {
      "cell_type": "code",
      "source": [
        "#WSS em função do número de clusters\n",
        "WSS = []  #Inicia uma lista vazia, para acumularmos valores.\n",
        "\n",
        "for k in range(1,10): #Vamos fazer para 1 a 9 clusters.\n",
        "    kmeans = KMeans(  #Inicializa o K-Means, como já explicado antes\n",
        "        n_clusters=k, \n",
        "        init='random',\n",
        "        n_init=10, \n",
        "        max_iter=300, \n",
        "        tol=1e-04, \n",
        "        random_state=0\n",
        "    )\n",
        "    y_kmeans = kmeans.fit_predict(X_pca) #Fita o K-Means\n",
        "    WSS.append(kmeans.inertia_)          #Obtem a WSS e acumula na lista inicializada \n",
        "    \n",
        "plt.figure(figsize=(18,10))              #Define o tamanho da figura\n",
        "plt.plot(range(1,10), WSS, '-bo')        #Define o plot\n",
        "plt.xlabel('k')                          #Nome da coordenada x\n",
        "plt.ylabel('WSS')                        #Nome da coordenada y\n",
        "plt.title('Método do cotovelo')          #Título do gráfico\n",
        "plt.show()                               #Mostra o gráfico"
      ],
      "metadata": {
        "colab": {
          "base_uri": "https://localhost:8080/",
          "height": 621
        },
        "id": "axkNzhoBg1nv",
        "outputId": "072557b5-be4d-4080-f65b-111e0256604f"
      },
      "execution_count": null,
      "outputs": [
        {
          "output_type": "display_data",
          "data": {
            "text/plain": [
              "<Figure size 1296x720 with 1 Axes>"
            ],
            "image/png": "[encoded data removed]"
          },
          "metadata": {
            "needs_background": "light"
          }
        }
      ]
    },
    {
      "cell_type": "code",
      "source": [
        "#testando a quantidade de clusters\n",
        "for numberofclusters in range(3,6):\n",
        "\n",
        "    n_clusters=numberofclusters\n",
        "\n",
        "    kmeans = KMeans(\n",
        "        n_clusters=n_clusters, \n",
        "        init='random',\n",
        "        n_init=10, \n",
        "        max_iter=300, \n",
        "        tol=1e-04, \n",
        "        random_state=0\n",
        "    )\n",
        "\n",
        "    y_kmeans = kmeans.fit_predict(X_pca)\n",
        "\n",
        "    centroids = kmeans.cluster_centers_\n",
        "    labels = pairwise_distances_argmin(X_pca, centroids)\n",
        "    colors = [\"r\", \"m\", \"b\", \"y\", \"k\"]\n",
        "\n",
        "    fig = plt.figure(figsize=(14.4, 4))\n",
        "    ax = fig.add_subplot()\n",
        "\n",
        "    for k, col in zip(range(n_clusters), colors):\n",
        "        my_members = labels == k\n",
        "        cluster_center = centroids[k]\n",
        "        ax.plot(\n",
        "            X_pca[my_members, 0],\n",
        "            X_pca[my_members, 1],\n",
        "            \"w\", \n",
        "            markerfacecolor=col,\n",
        "            marker=\".\",\n",
        "            alpha = 0.5,\n",
        "            linewidth=0)\n",
        "        ax.plot(\n",
        "            cluster_center[0],\n",
        "            cluster_center[1],\n",
        "            \"o\",\n",
        "            markerfacecolor=col,\n",
        "            markersize=6,\n",
        "            alpha = 1.0,\n",
        "            linewidth=0\n",
        "        )\n",
        "    title = 'KMeans - ' + str(numberofclusters) + \" clusters\"\n",
        "    ax.set_title(title)\n",
        "    plt.xlabel('component 1')\n",
        "    plt.ylabel('component 2')\n",
        "\n",
        "    plt.show()\n",
        "\n",
        "\n",
        "fig = plt.figure(figsize=(18, 4))\n",
        "ax = fig.add_subplot()\n",
        "\n",
        "plt.scatter(X_pca[:, 0], X_pca[:, 1], edgecolor='none', alpha=0.5, c=df_atualizado[\"diabetes_normalizado\"].values)\n",
        "plt.xlabel('component 1')\n",
        "plt.ylabel('component 2')\n",
        "plt.colorbar()\n",
        "plt.show()"
      ],
      "metadata": {
        "colab": {
          "base_uri": "https://localhost:8080/",
          "height": 1000
        },
        "id": "duPyD7Gag35A",
        "outputId": "977742f1-1c4b-4fa0-e783-da12e0c9586c"
      },
      "execution_count": null,
      "outputs": [
        {
          "output_type": "display_data",
          "data": {
            "text/plain": [
              "<Figure size 1036.8x288 with 1 Axes>"
            ],
            "image/png": "[encoded data removed]"
          },
          "metadata": {
            "needs_background": "light"
          }
        },
        {
          "output_type": "display_data",
          "data": {
            "text/plain": [
              "<Figure size 1036.8x288 with 1 Axes>"
            ],
            "image/png": "[encoded data removed]"
          },
          "metadata": {
            "needs_background": "light"
          }
        },
        {
          "output_type": "display_data",
          "data": {
            "text/plain": [
              "<Figure size 1036.8x288 with 1 Axes>"
            ],
            "image/png": "[encoded data removed]"
          },
          "metadata": {
            "needs_background": "light"
          }
        },
        {
          "output_type": "display_data",
          "data": {
            "text/plain": [
              "<Figure size 1296x288 with 2 Axes>"
            ],
            "image/png": "[encoded data removed]"
          },
          "metadata": {
            "needs_background": "light"
          }
        }
      ]
    },
    {
      "cell_type": "markdown",
      "source": [
        "O agrupamento que mais se adequa é o de 3 cluster, porém a divisão de 5 clusters apresenta um agrupamento bom também."
      ],
      "metadata": {
        "id": "yzDl2RN77rz2"
      }
    },
    {
      "cell_type": "code",
      "source": [
        "#gráfico 3d\n",
        "from mpl_toolkits import mplot3d\n",
        "\n",
        "n_clusters=3\n",
        "\n",
        "kmeans = KMeans(\n",
        "    n_clusters=n_clusters, \n",
        "    init='random',\n",
        "    n_init=10, \n",
        "    max_iter=300, \n",
        "    tol=1e-04, \n",
        "    random_state=0\n",
        ")\n",
        "\n",
        "y_kmeans = kmeans.fit_predict(X_pca)\n",
        "\n",
        "centroids = kmeans.cluster_centers_\n",
        "labels = pairwise_distances_argmin(X_pca, centroids)\n",
        "colors = [\"r\", \"m\", \"b\", \"y\", \"k\"]\n",
        "\n",
        "fig = plt.figure() #figsize=(22, 10))\n",
        "ax = fig.add_subplot(projection='3d')\n",
        "\n",
        "for k, col in zip(range(n_clusters), colors):\n",
        "    my_members = labels == k\n",
        "    cluster_center = centroids[k]\n",
        "    ax.plot(\n",
        "        X_pca[my_members, 0], \n",
        "        X_pca[my_members, 1],\n",
        "        X_pca[my_members, 2],\n",
        "        \"w\", \n",
        "        markerfacecolor=col, \n",
        "        marker=\".\",\n",
        "        linewidth=0,\n",
        "        alpha=0.3\n",
        "    )\n",
        "    c0 = np.ndarray.tolist(cluster_center[0:3])\n",
        "    print(type(c0))\n",
        "    print(type(c0[0]))\n",
        "    c1 = []\n",
        "    c1.append(c0[0])\n",
        "    c2 = []\n",
        "    c2.append(c0[1])\n",
        "    c3 = []\n",
        "    c3.append(c0[2])\n",
        "    ax.plot(\n",
        "        c1,\n",
        "        c2,\n",
        "        c3,\n",
        "        \"o\",\n",
        "        markerfacecolor=col,\n",
        "        marker=\".\",\n",
        "        markeredgecolor=\"k\",\n",
        "        markersize=10,\n",
        "    )\n",
        "\n",
        "ax.set_title(\"KMeans\")\n",
        "ax.set_xlabel('Component 1')\n",
        "ax.set_ylabel('Component 2')\n",
        "ax.set_zlabel('Component 3')\n",
        "\n",
        "plt.show()"
      ],
      "metadata": {
        "colab": {
          "base_uri": "https://localhost:8080/",
          "height": 352
        },
        "id": "QORrfSNDhLLj",
        "outputId": "4181beb3-54a9-40d9-a88c-09c5c9de0195"
      },
      "execution_count": null,
      "outputs": [
        {
          "output_type": "stream",
          "name": "stdout",
          "text": [
            "<class 'list'>\n",
            "<class 'float'>\n",
            "<class 'list'>\n",
            "<class 'float'>\n",
            "<class 'list'>\n",
            "<class 'float'>\n"
          ]
        },
        {
          "output_type": "display_data",
          "data": {
            "text/plain": [
              "<Figure size 432x288 with 1 Axes>"
            ],
            "image/png": "[encoded data removed]"
          },
          "metadata": {
            "needs_background": "light"
          }
        }
      ]
    },
    {
      "cell_type": "code",
      "source": [
        "print (cluster_center)"
      ],
      "metadata": {
        "id": "plrDUuFShSM1",
        "colab": {
          "base_uri": "https://localhost:8080/"
        },
        "outputId": "31ed6b11-409d-4f4c-938a-cb546437f88b"
      },
      "execution_count": null,
      "outputs": [
        {
          "output_type": "stream",
          "name": "stdout",
          "text": [
            "[-1.18996524e+00  8.51321697e-01  1.42234472e+00  1.08741111e-02\n",
            "  3.77701537e-03  4.75947222e-04  1.98393302e-04  4.24824133e-17]\n"
          ]
        }
      ]
    },
    {
      "cell_type": "markdown",
      "source": [
        "**Ward**"
      ],
      "metadata": {
        "id": "Wjh6KgBMuQEw"
      }
    },
    {
      "cell_type": "code",
      "source": [
        "#Usando o dendrograma para encontrar o número ideal de clusters\n",
        "from sklearn.cluster import AgglomerativeClustering\n",
        "import scipy.cluster.hierarchy as sch\n",
        "model = AgglomerativeClustering(n_clusters= 4, affinity='euclidean', linkage='ward') #Ajustando o cluster hierárquico ao conjunto de dados \n",
        "y_hc=model.fit_predict(X_pca)\n",
        "labels = model.labels_\n",
        "dendrogram = sch.dendrogram(sch.linkage(X_pca, method='ward'))"
      ],
      "metadata": {
        "id": "yxbw7SZVuZf9",
        "colab": {
          "base_uri": "https://localhost:8080/",
          "height": 263
        },
        "outputId": "63cded8f-4872-478b-9e6f-198e27543783"
      },
      "execution_count": null,
      "outputs": [
        {
          "output_type": "display_data",
          "data": {
            "text/plain": [
              "<Figure size 432x288 with 1 Axes>"
            ],
            "image/png": "[encoded data removed]"
          },
          "metadata": {
            "needs_background": "light"
          }
        }
      ]
    },
    {
      "cell_type": "code",
      "source": [
        "#Visualizando método de cluster ward\n",
        "plt.scatter(X_pca[labels==0, 0], X_pca[labels==0, 1], s=100, marker='*', color='red')\n",
        "plt.scatter(X_pca[labels==1, 0], X_pca[labels==1, 1], s=100, marker='*', color='blue')\n",
        "plt.scatter(X_pca[labels==2, 0], X_pca[labels==2, 1], s=100, marker='*', color='green')\n",
        "plt.scatter(X_pca[labels==3, 0], X_pca[labels==3, 1], s=100, marker='*', color='purple')\n",
        "plt.xlabel('component 1')\n",
        "plt.ylabel('component 2')\n",
        "plt.show()"
      ],
      "metadata": {
        "colab": {
          "base_uri": "https://localhost:8080/",
          "height": 283
        },
        "id": "gJPMbU4lyXRI",
        "outputId": "9be45ef7-0413-4dbb-d3f3-59008f8fe7c8"
      },
      "execution_count": null,
      "outputs": [
        {
          "output_type": "display_data",
          "data": {
            "text/plain": [
              "<Figure size 432x288 with 1 Axes>"
            ],
            "image/png": "[encoded data removed]"
          },
          "metadata": {
            "needs_background": "light"
          }
        }
      ]
    },
    {
      "cell_type": "code",
      "source": [
        "#gráfico 3d\n",
        "fig = plt.figure()\n",
        "ax = plt.axes(projection='3d')\n",
        "model = AgglomerativeClustering(n_clusters= 4, affinity='euclidean', linkage='ward')\n",
        "y_hc=model.fit_predict(X_pca)\n",
        "labels = model.labels_\n",
        "ax.scatter3D(X_pca[labels==0, 0], X_pca[labels==0, 1],X_pca[labels==0, 2], marker='*', color='red')\n",
        "ax.scatter3D(X_pca[labels==1, 0], X_pca[labels==1, 1],X_pca[labels==1, 2], marker='*', color='blue')\n",
        "ax.scatter3D(X_pca[labels==2, 0], X_pca[labels==2, 1],X_pca[labels==2, 2], marker='*', color='green')\n",
        "ax.scatter3D(X_pca[labels==3, 0], X_pca[labels==3, 1],X_pca[labels==3, 2], marker='*', color='purple')\n",
        "ax.set_xlabel('Component 1')\n",
        "ax.set_ylabel('Component 2')\n",
        "ax.set_zlabel('Component 3')\n",
        "plt.show()"
      ],
      "metadata": {
        "colab": {
          "base_uri": "https://localhost:8080/",
          "height": 248
        },
        "id": "v8BeTTSP8N1a",
        "outputId": "3b405291-0f89-4313-ac72-c8b1b7988817"
      },
      "execution_count": null,
      "outputs": [
        {
          "output_type": "display_data",
          "data": {
            "text/plain": [
              "<Figure size 432x288 with 1 Axes>"
            ],
            "image/png": "[encoded data removed]"
          },
          "metadata": {
            "needs_background": "light"
          }
        }
      ]
    },
    {
      "cell_type": "markdown",
      "source": [
        "**Birch**"
      ],
      "metadata": {
        "id": "jrRyd4J23ofk"
      }
    },
    {
      "cell_type": "code",
      "source": [
        "#Aplicando o método BIRCH\n",
        "from sklearn.cluster import Birch\n",
        "model = Birch(branching_factor = 30, n_clusters = None, threshold = 2)\n",
        "model.fit(X_pca)\n",
        "pred = model.predict(X_pca)\n",
        "plt.scatter(X_pca[:, 0], X_pca[:, 1], c = pred)\n",
        "plt.xlabel('component 1')\n",
        "plt.ylabel('component 2')\n",
        "plt.show()"
      ],
      "metadata": {
        "colab": {
          "base_uri": "https://localhost:8080/",
          "height": 283
        },
        "id": "5RcyAyr43SEO",
        "outputId": "494c450b-93eb-4807-fc47-44d997e33713"
      },
      "execution_count": null,
      "outputs": [
        {
          "output_type": "display_data",
          "data": {
            "text/plain": [
              "<Figure size 432x288 with 1 Axes>"
            ],
            "image/png": "[encoded data removed]"
          },
          "metadata": {
            "needs_background": "light"
          }
        }
      ]
    },
    {
      "cell_type": "code",
      "source": [
        "#gráfico 3d\n",
        "fig = plt.figure()\n",
        "ax = plt.axes(projection='3d')\n",
        "model = Birch(branching_factor = 200, n_clusters = None, threshold = 2)\n",
        "model.fit(X_pca)\n",
        "pred = model.predict(X_pca)\n",
        "ax.scatter3D(X_pca[:, 0], X_pca[:, 1], X_pca[:, 2], c = pred)\n",
        "ax.set_xlabel('Component 1')\n",
        "ax.set_ylabel('Component 2')\n",
        "ax.set_zlabel('Component 3')\n",
        "plt.show()"
      ],
      "metadata": {
        "colab": {
          "base_uri": "https://localhost:8080/",
          "height": 248
        },
        "id": "hiWemqlp7dW0",
        "outputId": "d4e78cb3-f93a-4919-9cf5-27de60d4bf74"
      },
      "execution_count": null,
      "outputs": [
        {
          "output_type": "display_data",
          "data": {
            "text/plain": [
              "<Figure size 432x288 with 1 Axes>"
            ],
            "image/png": "[encoded data removed]"
          },
          "metadata": {
            "needs_background": "light"
          }
        }
      ]
    },
    {
      "cell_type": "markdown",
      "source": [
        "O método que mais se encaixou foi o Birch, já que apresentou uma divisão mais clara dos dados em 3 grupos diferentes."
      ],
      "metadata": {
        "id": "8Hzg1n_D-tqC"
      }
    },
    {
      "cell_type": "markdown",
      "source": [
        "### **Análise de Outliers:**\n"
      ],
      "metadata": {
        "id": "o7vVoD3IAVbg"
      }
    },
    {
      "cell_type": "code",
      "source": [
        "from sklearn.neighbors import LocalOutlierFactor\n",
        "from sklearn.preprocessing import MinMaxScaler\n",
        "from sklearn.decomposition import PCA"
      ],
      "metadata": {
        "id": "DNqeAiO9Baw0"
      },
      "execution_count": null,
      "outputs": []
    },
    {
      "cell_type": "markdown",
      "source": [
        "**Isolation Forest**"
      ],
      "metadata": {
        "id": "JaETheYTB-FB"
      }
    },
    {
      "cell_type": "code",
      "source": [
        "# precisamos indicar a fração de outliers, vamos estimar que seja 1%\n",
        "from sklearn.ensemble import IsolationForest\n",
        "FRACAO_OUTLIERS = \"auto\"\n",
        "\n",
        "CORES = np.array([\"red\", \"blue\"])\n",
        "\n",
        "modelo_if = IsolationForest(\n",
        "    contamination=FRACAO_OUTLIERS,\n",
        "    random_state=SEMENTE_ALEATORIA,\n",
        ")\n",
        "\n",
        "# Ajustamos o modelo aos dados e realizamos a previsão\n",
        "modelo_if.fit(X_pca)\n",
        "previsao = modelo_if.predict(X_pca)\n",
        "\n",
        "fig, eixo = plt.subplots(figsize=(5, 5))\n",
        "\n",
        "eixo.scatter(\n",
        "    X_pca[:, 0],\n",
        "    X_pca[:, 1],\n",
        "    s=1,\n",
        "    color=CORES[(previsao + 1) // 2],\n",
        ")\n",
        "\n",
        "eixo.set_xlabel(\"Componente principal 1\")\n",
        "eixo.set_ylabel(\"Componente principal 2\")\n",
        "plt.show()"
      ],
      "metadata": {
        "colab": {
          "base_uri": "https://localhost:8080/",
          "height": 338
        },
        "id": "Gqbwzy2FAaHH",
        "outputId": "3b6c024c-8ee9-497b-95db-7bc167ac3e44"
      },
      "execution_count": null,
      "outputs": [
        {
          "output_type": "display_data",
          "data": {
            "text/plain": [
              "<Figure size 360x360 with 1 Axes>"
            ],
            "image/png": "[encoded data removed]"
          },
          "metadata": {
            "needs_background": "light"
          }
        }
      ]
    },
    {
      "cell_type": "markdown",
      "source": [
        "**LOF**"
      ],
      "metadata": {
        "id": "k6ux31u-CDoU"
      }
    },
    {
      "cell_type": "code",
      "source": [
        "# precisamos indicar a fração de outliers, vamos estimar que seja definida automáticamente\n",
        "FRACAO_OUTLIERS = \"auto\"\n",
        "\n",
        "# precisamos também indicar o número de vizinhos que serão considerados\n",
        "N_VIZINHOS1 = 10\n",
        "\n",
        "CORES = np.array([\"red\", \"blue\"])\n",
        "\n",
        "modelo_lof = LocalOutlierFactor(\n",
        "    n_neighbors=N_VIZINHOS1,\n",
        "    contamination=FRACAO_OUTLIERS,\n",
        ")\n",
        "\n",
        "modelo_lof.fit(X_pca)\n",
        "previsao = modelo_lof.fit_predict(X_pca)\n",
        "\n",
        "fig, eixo = plt.subplots(figsize=(5, 5))\n",
        "\n",
        "eixo.scatter(\n",
        "    X_pca[:, 0],\n",
        "    X_pca[:, 1],\n",
        "    s=1,\n",
        "    color=CORES[(previsao + 1) // 2],\n",
        ")\n",
        "\n",
        "eixo.set_xlabel(\"Componente principal 1\")\n",
        "eixo.set_ylabel(\"Componente principal 2\")\n",
        "plt.show()"
      ],
      "metadata": {
        "colab": {
          "base_uri": "https://localhost:8080/",
          "height": 338
        },
        "id": "Q7Tq1G7PApKM",
        "outputId": "6b37ad0f-ae70-4466-efbb-c1d5acf70274"
      },
      "execution_count": null,
      "outputs": [
        {
          "output_type": "display_data",
          "data": {
            "text/plain": [
              "<Figure size 360x360 with 1 Axes>"
            ],
            "image/png": "[encoded data removed]"
          },
          "metadata": {
            "needs_background": "light"
          }
        }
      ]
    },
    {
      "cell_type": "code",
      "source": [
        "# precisamos indicar a fração de outliers, vamos estimar que seja 1%\n",
        "FRACAO_OUTLIERS = \"auto\"\n",
        "\n",
        "# precisamos também indicar o número de vizinhos que serão considerados\n",
        "N_VIZINHOS2 = 20\n",
        "\n",
        "CORES = np.array([\"red\", \"blue\"])\n",
        "\n",
        "modelo_lof = LocalOutlierFactor(\n",
        "    n_neighbors=N_VIZINHOS2,\n",
        "    contamination=FRACAO_OUTLIERS,\n",
        ")\n",
        "\n",
        "modelo_lof.fit(X_pca)\n",
        "previsao = modelo_lof.fit_predict(X_pca)\n",
        "\n",
        "fig, eixo = plt.subplots(figsize=(5, 5))\n",
        "\n",
        "eixo.scatter(\n",
        "    X_pca[:, 0],\n",
        "    X_pca[:, 1],\n",
        "    s=1,\n",
        "    color=CORES[(previsao + 1) // 2],\n",
        ")\n",
        "\n",
        "eixo.set_xlabel(\"Componente principal 1\")\n",
        "eixo.set_ylabel(\"Componente principal 2\")\n",
        "plt.show()"
      ],
      "metadata": {
        "colab": {
          "base_uri": "https://localhost:8080/",
          "height": 338
        },
        "id": "OC_VlqsYBU5j",
        "outputId": "49490558-aaf7-4241-c9d0-4952728e7d10"
      },
      "execution_count": null,
      "outputs": [
        {
          "output_type": "display_data",
          "data": {
            "text/plain": [
              "<Figure size 360x360 with 1 Axes>"
            ],
            "image/png": "[encoded data removed]"
          },
          "metadata": {
            "needs_background": "light"
          }
        }
      ]
    },
    {
      "cell_type": "code",
      "source": [
        "# precisamos indicar a fração de outliers, vamos estimar que seja 1%\n",
        "FRACAO_OUTLIERS = \"auto\"\n",
        "\n",
        "# precisamos também indicar o número de vizinhos que serão considerados\n",
        "N_VIZINHOS3 = 30\n",
        "\n",
        "CORES = np.array([\"red\", \"blue\"])\n",
        "\n",
        "modelo_lof = LocalOutlierFactor(\n",
        "    n_neighbors=N_VIZINHOS3,\n",
        "    contamination=FRACAO_OUTLIERS,\n",
        ")\n",
        "\n",
        "modelo_lof.fit(X_pca)\n",
        "previsao = modelo_lof.fit_predict(X_pca)\n",
        "\n",
        "fig, eixo = plt.subplots(figsize=(5, 5))\n",
        "\n",
        "eixo.scatter(\n",
        "    X_pca[:, 0],\n",
        "    X_pca[:, 1],\n",
        "    s=1,\n",
        "    color=CORES[(previsao + 1) // 2],\n",
        ")\n",
        "\n",
        "eixo.set_xlabel(\"Componente principal 1\")\n",
        "eixo.set_ylabel(\"Componente principal 2\")\n",
        "plt.show()"
      ],
      "metadata": {
        "colab": {
          "base_uri": "https://localhost:8080/",
          "height": 338
        },
        "id": "U7rN1oyCB1-R",
        "outputId": "73407071-572a-47c3-e103-00c445dc3396"
      },
      "execution_count": null,
      "outputs": [
        {
          "output_type": "display_data",
          "data": {
            "text/plain": [
              "<Figure size 360x360 with 1 Axes>"
            ],
            "image/png": "[encoded data removed]"
          },
          "metadata": {
            "needs_background": "light"
          }
        }
      ]
    },
    {
      "cell_type": "markdown",
      "source": [
        "**Análise e comparação dos métodos de outliers:**"
      ],
      "metadata": {
        "id": "OzbI6IKiCTuY"
      }
    },
    {
      "cell_type": "markdown",
      "source": [
        "Pelo método da isolation forest com a porcentagem de outliers automática, o resultado obtido em nosso ver, em primera análise, não corresponde a realidade pois selecionou pontos que parecem coerente aos dados.\n",
        "\n",
        "Posteriormente ao fazer a análise dos resultados do local outlier factor com a porcentagem de outliers também no automático obtivemos o resultado de nenhum outlier identificado independente do número de vizinhos que adicionamos.\n",
        "\n",
        "A partir desses resultados chegamos a conclusão de que, analisando em duas dimensões, os nossos dados apresentam bom comportamento."
      ],
      "metadata": {
        "id": "fCL0dhu9CY9i"
      }
    },
    {
      "cell_type": "code",
      "source": [],
      "metadata": {
        "id": "n_6UnFzl4Rxn"
      },
      "execution_count": null,
      "outputs": []
    }
  ]
}